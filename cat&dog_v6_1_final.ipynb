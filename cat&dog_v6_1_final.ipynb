{
  "nbformat": 4,
  "nbformat_minor": 0,
  "metadata": {
    "colab": {
      "name": "cat&dog-v6.1-final.ipynb",
      "provenance": [],
      "collapsed_sections": [],
      "authorship_tag": "ABX9TyOWR5KzoFUnDwvLOcSD6lTs",
      "include_colab_link": true
    },
    "kernelspec": {
      "name": "python3",
      "display_name": "Python 3"
    }
  },
  "cells": [
    {
      "cell_type": "markdown",
      "metadata": {
        "id": "view-in-github",
        "colab_type": "text"
      },
      "source": [
        "<a href=\"https://colab.research.google.com/github/Jun-Liu-291/cat-dog-CNN/blob/master/cat%26dog_v6_1_final.ipynb\" target=\"_parent\"><img src=\"https://colab.research.google.com/assets/colab-badge.svg\" alt=\"Open In Colab\"/></a>"
      ]
    },
    {
      "cell_type": "code",
      "metadata": {
        "id": "g8HBu7kpRfmC",
        "colab_type": "code",
        "colab": {}
      },
      "source": [
        "from keras import layers\n",
        "from keras import models\n",
        "from keras import optimizers\n",
        "from keras import regularizers\n",
        "\n",
        "model = models.Sequential()\n",
        "model.add(layers.Conv2D(32, (3, 3), activation='relu', input_shape=(150, 150, 3), kernel_regularizer=regularizers.l2(1e-4)))\n",
        "model.add(layers.MaxPooling2D((2, 2)))\n",
        "model.add(layers.Conv2D(64, (3, 3), activation='relu', kernel_regularizer=regularizers.l2(1e-4)))\n",
        "model.add(layers.MaxPooling2D((2, 2)))\n",
        "model.add(layers.Conv2D(128, (3, 3), activation='relu', kernel_regularizer=regularizers.l2(1e-4)))\n",
        "model.add(layers.MaxPooling2D((2, 2)))\n",
        "# change to 256 depth weight in 4th layer\n",
        "model.add(layers.Conv2D(256, (3, 3), activation='relu', kernel_regularizer=regularizers.l2(1e-4)))\n",
        "model.add(layers.MaxPooling2D((2, 2)))\n",
        "# add another (3, 3, 256) weights layer\n",
        "model.add(layers.Conv2D(256, (3, 3), activation='relu', kernel_regularizer=regularizers.l2(1e-4)))\n",
        "model.add(layers.MaxPooling2D((2, 2)))\n",
        "model.add(layers.Flatten())\n",
        "# tuning dropout rate here\n",
        "model.add(layers.Dropout(0.5))\n",
        "model.add(layers.Dense(1024, activation='relu', kernel_regularizer=regularizers.l2(1e-4)))\n",
        "model.add(layers.Dense(1, activation='sigmoid'))"
      ],
      "execution_count": null,
      "outputs": []
    },
    {
      "cell_type": "code",
      "metadata": {
        "id": "_uHWaPU8Ro3u",
        "colab_type": "code",
        "colab": {
          "base_uri": "https://localhost:8080/",
          "height": 629
        },
        "outputId": "5e3ba2f3-29f8-4883-d5ec-ecc295dd554b"
      },
      "source": [
        "model.summary()"
      ],
      "execution_count": null,
      "outputs": [
        {
          "output_type": "stream",
          "text": [
            "Model: \"sequential_1\"\n",
            "_________________________________________________________________\n",
            "Layer (type)                 Output Shape              Param #   \n",
            "=================================================================\n",
            "conv2d_1 (Conv2D)            (None, 148, 148, 32)      896       \n",
            "_________________________________________________________________\n",
            "max_pooling2d_1 (MaxPooling2 (None, 74, 74, 32)        0         \n",
            "_________________________________________________________________\n",
            "conv2d_2 (Conv2D)            (None, 72, 72, 64)        18496     \n",
            "_________________________________________________________________\n",
            "max_pooling2d_2 (MaxPooling2 (None, 36, 36, 64)        0         \n",
            "_________________________________________________________________\n",
            "conv2d_3 (Conv2D)            (None, 34, 34, 128)       73856     \n",
            "_________________________________________________________________\n",
            "max_pooling2d_3 (MaxPooling2 (None, 17, 17, 128)       0         \n",
            "_________________________________________________________________\n",
            "conv2d_4 (Conv2D)            (None, 15, 15, 256)       295168    \n",
            "_________________________________________________________________\n",
            "max_pooling2d_4 (MaxPooling2 (None, 7, 7, 256)         0         \n",
            "_________________________________________________________________\n",
            "conv2d_5 (Conv2D)            (None, 5, 5, 256)         590080    \n",
            "_________________________________________________________________\n",
            "max_pooling2d_5 (MaxPooling2 (None, 2, 2, 256)         0         \n",
            "_________________________________________________________________\n",
            "flatten_1 (Flatten)          (None, 1024)              0         \n",
            "_________________________________________________________________\n",
            "dropout_1 (Dropout)          (None, 1024)              0         \n",
            "_________________________________________________________________\n",
            "dense_1 (Dense)              (None, 1024)              1049600   \n",
            "_________________________________________________________________\n",
            "dense_2 (Dense)              (None, 1)                 1025      \n",
            "=================================================================\n",
            "Total params: 2,029,121\n",
            "Trainable params: 2,029,121\n",
            "Non-trainable params: 0\n",
            "_________________________________________________________________\n"
          ],
          "name": "stdout"
        }
      ]
    },
    {
      "cell_type": "code",
      "metadata": {
        "id": "8xkQWvZTR39A",
        "colab_type": "code",
        "colab": {
          "base_uri": "https://localhost:8080/",
          "height": 122
        },
        "outputId": "8274fdc6-2a41-4a6d-b8d1-5363d9a378f1"
      },
      "source": [
        "from google.colab import drive\n",
        "drive.mount('/content/drive/')"
      ],
      "execution_count": null,
      "outputs": [
        {
          "output_type": "stream",
          "text": [
            "Go to this URL in a browser: https://accounts.google.com/o/oauth2/auth?client_id=947318989803-6bn6qk8qdgf4n4g3pfee6491hc0brc4i.apps.googleusercontent.com&redirect_uri=urn%3aietf%3awg%3aoauth%3a2.0%3aoob&response_type=code&scope=email%20https%3a%2f%2fwww.googleapis.com%2fauth%2fdocs.test%20https%3a%2f%2fwww.googleapis.com%2fauth%2fdrive%20https%3a%2f%2fwww.googleapis.com%2fauth%2fdrive.photos.readonly%20https%3a%2f%2fwww.googleapis.com%2fauth%2fpeopleapi.readonly\n",
            "\n",
            "Enter your authorization code:\n",
            "··········\n",
            "Mounted at /content/drive/\n"
          ],
          "name": "stdout"
        }
      ]
    },
    {
      "cell_type": "code",
      "metadata": {
        "id": "Pz_v7fz3SPjN",
        "colab_type": "code",
        "colab": {}
      },
      "source": [
        "from keras import optimizers\n",
        "\n",
        "import tensorflow as tf\n",
        "\n",
        "# change callback function\n",
        "lr_schedule = tf.keras.callbacks.LearningRateScheduler(lambda epoch: 1e-3 * (1 - epoch/300))\n",
        "\n",
        "model.compile(loss='binary_crossentropy',\n",
        "              optimizer=optimizers.RMSprop(lr=1e-3),\n",
        "              metrics=['acc'])"
      ],
      "execution_count": null,
      "outputs": []
    },
    {
      "cell_type": "code",
      "metadata": {
        "id": "nkC3DfvlSXbw",
        "colab_type": "code",
        "colab": {
          "base_uri": "https://localhost:8080/",
          "height": 68
        },
        "outputId": "e7998321-053f-4edc-d04b-ddb9daa52cdd"
      },
      "source": [
        "from keras.preprocessing.image import ImageDataGenerator\n",
        "import os\n",
        "\n",
        "batch_size = 40\n",
        "epoch_lenth = 200\n",
        "image_size = (150, 150)\n",
        "train_step_per_epochs = int(2000 / batch_size)\n",
        "validation_step_per_epochs = int(1000 / batch_size)\n",
        "\n",
        "train_dir = '/content/drive/My Drive/dataset/cats&dogs/small_dataset/train'\n",
        "validation_dir = '/content/drive/My Drive/dataset/cats&dogs/small_dataset/validation'\n",
        "\n",
        "train_datagen = ImageDataGenerator(\n",
        "    rescale=1./255,\n",
        "    rotation_range=40,\n",
        "    width_shift_range=0.2,\n",
        "    height_shift_range=0.2,\n",
        "    shear_range=0.2,\n",
        "    zoom_range=0.2,\n",
        "    horizontal_flip=True\n",
        ")\n",
        "\n",
        "test_datagen = ImageDataGenerator(rescale=1./255)\n",
        "\n",
        "train_generator = train_datagen.flow_from_directory(\n",
        "    train_dir,\n",
        "    target_size=(150,150),\n",
        "    batch_size=batch_size,\n",
        "    class_mode='binary'\n",
        ")\n",
        "\n",
        "validation_generator = test_datagen.flow_from_directory(\n",
        "    validation_dir,\n",
        "    target_size=(150,150),\n",
        "    batch_size=batch_size,\n",
        "    class_mode='binary'\n",
        ")"
      ],
      "execution_count": null,
      "outputs": [
        {
          "output_type": "stream",
          "text": [
            "Using TensorFlow backend.\n"
          ],
          "name": "stderr"
        },
        {
          "output_type": "stream",
          "text": [
            "Found 2000 images belonging to 2 classes.\n",
            "Found 1000 images belonging to 2 classes.\n"
          ],
          "name": "stdout"
        }
      ]
    },
    {
      "cell_type": "code",
      "metadata": {
        "id": "3Ix0q-krSZdV",
        "colab_type": "code",
        "colab": {
          "base_uri": "https://localhost:8080/",
          "height": 1000
        },
        "outputId": "32c2ac25-e38c-4865-db82-1943ddddf996"
      },
      "source": [
        "history = model.fit_generator(\n",
        "    train_generator,\n",
        "    steps_per_epoch=train_step_per_epochs,\n",
        "    epochs=epoch_lenth,\n",
        "    validation_data=validation_generator,\n",
        "    validation_steps=validation_step_per_epochs,\n",
        "    callbacks = [lr_schedule]\n",
        ")"
      ],
      "execution_count": null,
      "outputs": [
        {
          "output_type": "stream",
          "text": [
            "Epoch 1/60\n",
            "50/50 [==============================] - 669s 13s/step - loss: 0.8070 - acc: 0.4990 - val_loss: 0.7512 - val_acc: 0.5000\n",
            "Epoch 2/60\n",
            "50/50 [==============================] - 124s 2s/step - loss: 0.7372 - acc: 0.5020 - val_loss: 0.7345 - val_acc: 0.5000\n",
            "Epoch 3/60\n",
            "50/50 [==============================] - 124s 2s/step - loss: 0.7132 - acc: 0.5210 - val_loss: 0.6995 - val_acc: 0.5000\n",
            "Epoch 4/60\n",
            "50/50 [==============================] - 123s 2s/step - loss: 0.6970 - acc: 0.5265 - val_loss: 0.6721 - val_acc: 0.5570\n",
            "Epoch 5/60\n",
            "50/50 [==============================] - 123s 2s/step - loss: 0.6958 - acc: 0.5515 - val_loss: 0.6887 - val_acc: 0.5690\n",
            "Epoch 6/60\n",
            "50/50 [==============================] - 123s 2s/step - loss: 0.6797 - acc: 0.5730 - val_loss: 0.6627 - val_acc: 0.5820\n",
            "Epoch 7/60\n",
            "50/50 [==============================] - 123s 2s/step - loss: 0.6920 - acc: 0.5900 - val_loss: 0.6464 - val_acc: 0.6370\n",
            "Epoch 8/60\n",
            "50/50 [==============================] - 123s 2s/step - loss: 0.6939 - acc: 0.6055 - val_loss: 0.6554 - val_acc: 0.6650\n",
            "Epoch 9/60\n",
            "50/50 [==============================] - 123s 2s/step - loss: 0.6613 - acc: 0.6010 - val_loss: 0.7106 - val_acc: 0.6250\n",
            "Epoch 10/60\n",
            "50/50 [==============================] - 123s 2s/step - loss: 0.6560 - acc: 0.6065 - val_loss: 0.5856 - val_acc: 0.6780\n",
            "Epoch 11/60\n",
            "50/50 [==============================] - 123s 2s/step - loss: 0.6498 - acc: 0.6345 - val_loss: 0.6472 - val_acc: 0.6510\n",
            "Epoch 12/60\n",
            "50/50 [==============================] - 123s 2s/step - loss: 0.6397 - acc: 0.6360 - val_loss: 0.6531 - val_acc: 0.6560\n",
            "Epoch 13/60\n",
            "50/50 [==============================] - 123s 2s/step - loss: 0.6385 - acc: 0.6435 - val_loss: 0.5761 - val_acc: 0.6830\n",
            "Epoch 14/60\n",
            "50/50 [==============================] - 123s 2s/step - loss: 0.6437 - acc: 0.6370 - val_loss: 0.7142 - val_acc: 0.6850\n",
            "Epoch 15/60\n",
            "50/50 [==============================] - 123s 2s/step - loss: 0.6319 - acc: 0.6475 - val_loss: 0.7120 - val_acc: 0.5430\n",
            "Epoch 16/60\n",
            "50/50 [==============================] - 123s 2s/step - loss: 0.6292 - acc: 0.6485 - val_loss: 0.7001 - val_acc: 0.6270\n",
            "Epoch 17/60\n",
            "50/50 [==============================] - 123s 2s/step - loss: 0.6218 - acc: 0.6495 - val_loss: 0.5458 - val_acc: 0.6890\n",
            "Epoch 18/60\n",
            "50/50 [==============================] - 123s 2s/step - loss: 0.6209 - acc: 0.6565 - val_loss: 0.5462 - val_acc: 0.6950\n",
            "Epoch 19/60\n",
            "50/50 [==============================] - 123s 2s/step - loss: 0.6367 - acc: 0.6390 - val_loss: 0.6293 - val_acc: 0.6810\n",
            "Epoch 20/60\n",
            "50/50 [==============================] - 123s 2s/step - loss: 0.6266 - acc: 0.6600 - val_loss: 0.5389 - val_acc: 0.7200\n",
            "Epoch 21/60\n",
            "50/50 [==============================] - 123s 2s/step - loss: 0.6193 - acc: 0.6630 - val_loss: 0.5258 - val_acc: 0.7140\n",
            "Epoch 22/60\n",
            "50/50 [==============================] - 124s 2s/step - loss: 0.6151 - acc: 0.6720 - val_loss: 0.5873 - val_acc: 0.6830\n",
            "Epoch 23/60\n",
            "50/50 [==============================] - 124s 2s/step - loss: 0.6190 - acc: 0.6560 - val_loss: 0.6092 - val_acc: 0.6460\n",
            "Epoch 24/60\n",
            "50/50 [==============================] - 124s 2s/step - loss: 0.6082 - acc: 0.6560 - val_loss: 0.6746 - val_acc: 0.7120\n",
            "Epoch 25/60\n",
            "50/50 [==============================] - 123s 2s/step - loss: 0.6120 - acc: 0.6640 - val_loss: 0.5977 - val_acc: 0.6810\n",
            "Epoch 26/60\n",
            "50/50 [==============================] - 124s 2s/step - loss: 0.6005 - acc: 0.6910 - val_loss: 0.5250 - val_acc: 0.6040\n",
            "Epoch 27/60\n",
            "50/50 [==============================] - 123s 2s/step - loss: 0.6033 - acc: 0.6885 - val_loss: 0.8050 - val_acc: 0.5060\n",
            "Epoch 28/60\n",
            "50/50 [==============================] - 124s 2s/step - loss: 0.6012 - acc: 0.6755 - val_loss: 0.5826 - val_acc: 0.6620\n",
            "Epoch 29/60\n",
            "50/50 [==============================] - 123s 2s/step - loss: 0.5985 - acc: 0.6905 - val_loss: 0.6252 - val_acc: 0.7220\n",
            "Epoch 30/60\n",
            "50/50 [==============================] - 123s 2s/step - loss: 0.5977 - acc: 0.6795 - val_loss: 0.5014 - val_acc: 0.7270\n",
            "Epoch 31/60\n",
            "50/50 [==============================] - 123s 2s/step - loss: 0.5994 - acc: 0.7035 - val_loss: 0.5076 - val_acc: 0.7090\n",
            "Epoch 32/60\n",
            "50/50 [==============================] - 123s 2s/step - loss: 0.5926 - acc: 0.6935 - val_loss: 0.8473 - val_acc: 0.6940\n",
            "Epoch 33/60\n",
            "50/50 [==============================] - 123s 2s/step - loss: 0.5943 - acc: 0.6925 - val_loss: 0.6086 - val_acc: 0.6250\n",
            "Epoch 34/60\n",
            "50/50 [==============================] - 124s 2s/step - loss: 0.5934 - acc: 0.6900 - val_loss: 0.5400 - val_acc: 0.6800\n",
            "Epoch 35/60\n",
            "50/50 [==============================] - 123s 2s/step - loss: 0.5813 - acc: 0.7215 - val_loss: 0.6006 - val_acc: 0.6850\n",
            "Epoch 36/60\n",
            "50/50 [==============================] - 123s 2s/step - loss: 0.5879 - acc: 0.6885 - val_loss: 0.4689 - val_acc: 0.7370\n",
            "Epoch 37/60\n",
            "50/50 [==============================] - 124s 2s/step - loss: 0.5746 - acc: 0.7170 - val_loss: 0.5698 - val_acc: 0.7260\n",
            "Epoch 38/60\n",
            "50/50 [==============================] - 123s 2s/step - loss: 0.5759 - acc: 0.7035 - val_loss: 0.5485 - val_acc: 0.6940\n",
            "Epoch 39/60\n",
            "50/50 [==============================] - 123s 2s/step - loss: 0.5761 - acc: 0.7175 - val_loss: 0.5438 - val_acc: 0.7000\n",
            "Epoch 40/60\n",
            "50/50 [==============================] - 123s 2s/step - loss: 0.5776 - acc: 0.7150 - val_loss: 0.6501 - val_acc: 0.7430\n",
            "Epoch 41/60\n",
            "50/50 [==============================] - 124s 2s/step - loss: 0.5696 - acc: 0.7265 - val_loss: 0.5620 - val_acc: 0.7310\n",
            "Epoch 42/60\n",
            "50/50 [==============================] - 124s 2s/step - loss: 0.5674 - acc: 0.7145 - val_loss: 0.5840 - val_acc: 0.7330\n",
            "Epoch 43/60\n",
            "50/50 [==============================] - 124s 2s/step - loss: 0.5561 - acc: 0.7230 - val_loss: 0.4698 - val_acc: 0.7340\n",
            "Epoch 44/60\n",
            "50/50 [==============================] - 124s 2s/step - loss: 0.5637 - acc: 0.7110 - val_loss: 0.4883 - val_acc: 0.7290\n",
            "Epoch 45/60\n",
            "50/50 [==============================] - 124s 2s/step - loss: 0.5589 - acc: 0.7225 - val_loss: 0.6241 - val_acc: 0.7240\n",
            "Epoch 46/60\n",
            "50/50 [==============================] - 124s 2s/step - loss: 0.5691 - acc: 0.7285 - val_loss: 0.5009 - val_acc: 0.7240\n",
            "Epoch 47/60\n",
            "50/50 [==============================] - 124s 2s/step - loss: 0.5632 - acc: 0.7260 - val_loss: 0.5760 - val_acc: 0.7180\n",
            "Epoch 48/60\n",
            "50/50 [==============================] - 123s 2s/step - loss: 0.5562 - acc: 0.7310 - val_loss: 0.6229 - val_acc: 0.7250\n",
            "Epoch 49/60\n",
            "50/50 [==============================] - 124s 2s/step - loss: 0.5661 - acc: 0.7175 - val_loss: 0.5676 - val_acc: 0.7360\n",
            "Epoch 50/60\n",
            "50/50 [==============================] - 123s 2s/step - loss: 0.5572 - acc: 0.7325 - val_loss: 0.6157 - val_acc: 0.7260\n",
            "Epoch 51/60\n",
            "50/50 [==============================] - 123s 2s/step - loss: 0.5545 - acc: 0.7370 - val_loss: 0.5331 - val_acc: 0.7510\n",
            "Epoch 52/60\n",
            "50/50 [==============================] - 123s 2s/step - loss: 0.5424 - acc: 0.7440 - val_loss: 0.4910 - val_acc: 0.6820\n",
            "Epoch 53/60\n",
            "50/50 [==============================] - 123s 2s/step - loss: 0.5437 - acc: 0.7290 - val_loss: 0.5058 - val_acc: 0.7670\n",
            "Epoch 54/60\n",
            "50/50 [==============================] - 124s 2s/step - loss: 0.5452 - acc: 0.7435 - val_loss: 0.5094 - val_acc: 0.7600\n",
            "Epoch 55/60\n",
            "50/50 [==============================] - 123s 2s/step - loss: 0.5243 - acc: 0.7540 - val_loss: 0.6155 - val_acc: 0.7530\n",
            "Epoch 56/60\n",
            "50/50 [==============================] - 123s 2s/step - loss: 0.5320 - acc: 0.7465 - val_loss: 0.8542 - val_acc: 0.7100\n",
            "Epoch 57/60\n",
            "50/50 [==============================] - 124s 2s/step - loss: 0.5314 - acc: 0.7600 - val_loss: 0.8019 - val_acc: 0.6640\n",
            "Epoch 58/60\n",
            "50/50 [==============================] - 123s 2s/step - loss: 0.5320 - acc: 0.7560 - val_loss: 0.7741 - val_acc: 0.7400\n",
            "Epoch 59/60\n",
            "50/50 [==============================] - 124s 2s/step - loss: 0.5430 - acc: 0.7470 - val_loss: 0.5405 - val_acc: 0.7540\n",
            "Epoch 60/60\n",
            "50/50 [==============================] - 123s 2s/step - loss: 0.5185 - acc: 0.7610 - val_loss: 0.5136 - val_acc: 0.7340\n"
          ],
          "name": "stdout"
        }
      ]
    },
    {
      "cell_type": "code",
      "metadata": {
        "id": "L0XBBLIJU3ZG",
        "colab_type": "code",
        "colab": {
          "base_uri": "https://localhost:8080/",
          "height": 545
        },
        "outputId": "b54d7c52-1384-4753-fbb6-d3db41092887"
      },
      "source": [
        "import matplotlib.pyplot as plt\n",
        "acc = history.history['acc']\n",
        "val_acc = history.history['val_acc']\n",
        "loss = history.history['loss']\n",
        "val_loss = history.history['val_loss']\n",
        "epochs = range(1, len(acc) + 1)\n",
        "plt.plot(epochs, acc, 'bo', label='Training acc')\n",
        "plt.plot(epochs, val_acc, 'b', label='Validation acc')\n",
        "plt.title('Training and validation accuracy')\n",
        "plt.legend()\n",
        "plt.figure()\n",
        "plt.plot(epochs, loss, 'bo', label='Training loss')\n",
        "plt.plot(epochs, val_loss, 'b', label='Validation loss')\n",
        "plt.title('Training and validation loss')\n",
        "plt.legend()\n",
        "plt.show()"
      ],
      "execution_count": null,
      "outputs": [
        {
          "output_type": "display_data",
          "data": {
            "image/png": "[encoded data removed]",
            "text/plain": [
              "<Figure size 432x288 with 1 Axes>"
            ]
          },
          "metadata": {
            "tags": [],
            "needs_background": "light"
          }
        },
        {
          "output_type": "display_data",
          "data": {
            "image/png": "[encoded data removed]",
            "text/plain": [
              "<Figure size 432x288 with 1 Axes>"
            ]
          },
          "metadata": {
            "tags": [],
            "needs_background": "light"
          }
        }
      ]
    },
    {
      "cell_type": "code",
      "metadata": {
        "id": "y8Dera5UnSyy",
        "colab_type": "code",
        "colab": {}
      },
      "source": [
        "model.save('cats_and_dogs_small.h5')"
      ],
      "execution_count": null,
      "outputs": []
    },
    {
      "cell_type": "markdown",
      "metadata": {
        "id": "HSgRF3GeooMW",
        "colab_type": "text"
      },
      "source": [
        "Save model and further train in next day"
      ]
    },
    {
      "cell_type": "code",
      "metadata": {
        "id": "MieTQ6lVz7rn",
        "colab_type": "code",
        "colab": {}
      },
      "source": [
        "from keras.models import load_model\n",
        "\n",
        "model = load_model('/content/drive/My Drive/dataset/cats&dogs/cats_and_dogs_small.h5')"
      ],
      "execution_count": null,
      "outputs": []
    },
    {
      "cell_type": "code",
      "metadata": {
        "id": "2htU0q1BBDvR",
        "colab_type": "code",
        "colab": {
          "base_uri": "https://localhost:8080/",
          "height": 629
        },
        "outputId": "fe75f361-f0b2-492b-a05a-a70de1a5bc76"
      },
      "source": [
        "model.summary()"
      ],
      "execution_count": null,
      "outputs": [
        {
          "output_type": "stream",
          "text": [
            "Model: \"sequential_1\"\n",
            "_________________________________________________________________\n",
            "Layer (type)                 Output Shape              Param #   \n",
            "=================================================================\n",
            "conv2d_1 (Conv2D)            (None, 148, 148, 32)      896       \n",
            "_________________________________________________________________\n",
            "max_pooling2d_1 (MaxPooling2 (None, 74, 74, 32)        0         \n",
            "_________________________________________________________________\n",
            "conv2d_2 (Conv2D)            (None, 72, 72, 64)        18496     \n",
            "_________________________________________________________________\n",
            "max_pooling2d_2 (MaxPooling2 (None, 36, 36, 64)        0         \n",
            "_________________________________________________________________\n",
            "conv2d_3 (Conv2D)            (None, 34, 34, 128)       73856     \n",
            "_________________________________________________________________\n",
            "max_pooling2d_3 (MaxPooling2 (None, 17, 17, 128)       0         \n",
            "_________________________________________________________________\n",
            "conv2d_4 (Conv2D)            (None, 15, 15, 256)       295168    \n",
            "_________________________________________________________________\n",
            "max_pooling2d_4 (MaxPooling2 (None, 7, 7, 256)         0         \n",
            "_________________________________________________________________\n",
            "conv2d_5 (Conv2D)            (None, 5, 5, 256)         590080    \n",
            "_________________________________________________________________\n",
            "max_pooling2d_5 (MaxPooling2 (None, 2, 2, 256)         0         \n",
            "_________________________________________________________________\n",
            "flatten_1 (Flatten)          (None, 1024)              0         \n",
            "_________________________________________________________________\n",
            "dropout_1 (Dropout)          (None, 1024)              0         \n",
            "_________________________________________________________________\n",
            "dense_1 (Dense)              (None, 1024)              1049600   \n",
            "_________________________________________________________________\n",
            "dense_2 (Dense)              (None, 1)                 1025      \n",
            "=================================================================\n",
            "Total params: 2,029,121\n",
            "Trainable params: 2,029,121\n",
            "Non-trainable params: 0\n",
            "_________________________________________________________________\n"
          ],
          "name": "stdout"
        }
      ]
    },
    {
      "cell_type": "code",
      "metadata": {
        "id": "r885C9Ip3MaX",
        "colab_type": "code",
        "colab": {
          "base_uri": "https://localhost:8080/",
          "height": 1000
        },
        "outputId": "49cbac6e-fcf3-4e9e-8dc9-48b368be8505"
      },
      "source": [
        "history = model.fit_generator(\n",
        "    train_generator,\n",
        "    steps_per_epoch=train_step_per_epochs,\n",
        "    epochs=epoch_lenth,\n",
        "    validation_data=validation_generator,\n",
        "    validation_steps=validation_step_per_epochs,\n",
        "    callbacks = [lr_schedule]\n",
        ")"
      ],
      "execution_count": null,
      "outputs": [
        {
          "output_type": "stream",
          "text": [
            "Epoch 1/200\n",
            " 2/50 [>.............................] - ETA: 22:20 - loss: 0.8780 - acc: 0.6000"
          ],
          "name": "stdout"
        },
        {
          "output_type": "stream",
          "text": [
            "/usr/local/lib/python3.6/dist-packages/keras/utils/data_utils.py:616: UserWarning: The input 37 could not be retrieved. It could be because a worker has died.\n",
            "  UserWarning)\n"
          ],
          "name": "stderr"
        },
        {
          "output_type": "stream",
          "text": [
            "20/50 [===========>..................] - ETA: 13:27 - loss: 0.5718 - acc: 0.7300"
          ],
          "name": "stdout"
        },
        {
          "output_type": "stream",
          "text": [
            "/usr/local/lib/python3.6/dist-packages/keras/utils/data_utils.py:616: UserWarning: The input 34 could not be retrieved. It could be because a worker has died.\n",
            "  UserWarning)\n"
          ],
          "name": "stderr"
        },
        {
          "output_type": "stream",
          "text": [
            "50/50 [==============================] - 1681s 34s/step - loss: 0.5445 - acc: 0.7430 - val_loss: 0.6906 - val_acc: 0.7390\n",
            "Epoch 2/200\n",
            "50/50 [==============================] - 119s 2s/step - loss: 0.5400 - acc: 0.7480 - val_loss: 0.5312 - val_acc: 0.7560\n",
            "Epoch 3/200\n",
            "50/50 [==============================] - 123s 2s/step - loss: 0.5192 - acc: 0.7565 - val_loss: 0.4495 - val_acc: 0.7300\n",
            "Epoch 4/200\n",
            "50/50 [==============================] - 119s 2s/step - loss: 0.5440 - acc: 0.7420 - val_loss: 0.4238 - val_acc: 0.7080\n",
            "Epoch 5/200\n",
            "50/50 [==============================] - 119s 2s/step - loss: 0.5331 - acc: 0.7525 - val_loss: 0.4228 - val_acc: 0.7660\n",
            "Epoch 6/200\n",
            "50/50 [==============================] - 120s 2s/step - loss: 0.5206 - acc: 0.7635 - val_loss: 0.8094 - val_acc: 0.6680\n",
            "Epoch 7/200\n",
            "50/50 [==============================] - 119s 2s/step - loss: 0.5260 - acc: 0.7505 - val_loss: 0.5066 - val_acc: 0.7700\n",
            "Epoch 8/200\n",
            "50/50 [==============================] - 123s 2s/step - loss: 0.5120 - acc: 0.7760 - val_loss: 0.5654 - val_acc: 0.7610\n",
            "Epoch 9/200\n",
            "50/50 [==============================] - 120s 2s/step - loss: 0.5002 - acc: 0.7610 - val_loss: 0.5609 - val_acc: 0.7160\n",
            "Epoch 10/200\n",
            "50/50 [==============================] - 119s 2s/step - loss: 0.5191 - acc: 0.7645 - val_loss: 0.7349 - val_acc: 0.7570\n",
            "Epoch 11/200\n",
            "50/50 [==============================] - 120s 2s/step - loss: 0.5171 - acc: 0.7685 - val_loss: 0.5010 - val_acc: 0.7720\n",
            "Epoch 12/200\n",
            "50/50 [==============================] - 119s 2s/step - loss: 0.5062 - acc: 0.7545 - val_loss: 0.3961 - val_acc: 0.7710\n",
            "Epoch 13/200\n",
            "50/50 [==============================] - 120s 2s/step - loss: 0.5156 - acc: 0.7640 - val_loss: 0.6479 - val_acc: 0.7560\n",
            "Epoch 14/200\n",
            "50/50 [==============================] - 124s 2s/step - loss: 0.5030 - acc: 0.7715 - val_loss: 0.4878 - val_acc: 0.7570\n",
            "Epoch 15/200\n",
            "50/50 [==============================] - 120s 2s/step - loss: 0.4892 - acc: 0.7810 - val_loss: 0.4206 - val_acc: 0.7470\n",
            "Epoch 16/200\n",
            "50/50 [==============================] - 120s 2s/step - loss: 0.4983 - acc: 0.7895 - val_loss: 0.5602 - val_acc: 0.7730\n",
            "Epoch 17/200\n",
            "50/50 [==============================] - 120s 2s/step - loss: 0.5011 - acc: 0.7750 - val_loss: 0.7961 - val_acc: 0.6800\n",
            "Epoch 18/200\n",
            "50/50 [==============================] - 120s 2s/step - loss: 0.4852 - acc: 0.7895 - val_loss: 0.4297 - val_acc: 0.7730\n",
            "Epoch 19/200\n",
            "50/50 [==============================] - 123s 2s/step - loss: 0.5088 - acc: 0.7640 - val_loss: 0.5440 - val_acc: 0.7630\n",
            "Epoch 20/200\n",
            "50/50 [==============================] - 120s 2s/step - loss: 0.4835 - acc: 0.7850 - val_loss: 0.4476 - val_acc: 0.7610\n",
            "Epoch 21/200\n",
            "50/50 [==============================] - 120s 2s/step - loss: 0.4771 - acc: 0.7955 - val_loss: 0.5329 - val_acc: 0.7670\n",
            "Epoch 22/200\n",
            "50/50 [==============================] - 120s 2s/step - loss: 0.4785 - acc: 0.7850 - val_loss: 0.6099 - val_acc: 0.7750\n",
            "Epoch 23/200\n",
            "50/50 [==============================] - 120s 2s/step - loss: 0.4843 - acc: 0.7800 - val_loss: 0.4931 - val_acc: 0.7720\n",
            "Epoch 24/200\n",
            "50/50 [==============================] - 124s 2s/step - loss: 0.4734 - acc: 0.7850 - val_loss: 0.5285 - val_acc: 0.7790\n",
            "Epoch 25/200\n",
            "50/50 [==============================] - 120s 2s/step - loss: 0.4916 - acc: 0.7690 - val_loss: 0.6496 - val_acc: 0.7460\n",
            "Epoch 26/200\n",
            "50/50 [==============================] - 120s 2s/step - loss: 0.4767 - acc: 0.7955 - val_loss: 0.5027 - val_acc: 0.7710\n",
            "Epoch 27/200\n",
            "50/50 [==============================] - 120s 2s/step - loss: 0.4991 - acc: 0.7740 - val_loss: 0.4694 - val_acc: 0.7630\n",
            "Epoch 28/200\n",
            "50/50 [==============================] - 119s 2s/step - loss: 0.4733 - acc: 0.7845 - val_loss: 0.6931 - val_acc: 0.7570\n",
            "Epoch 29/200\n",
            "50/50 [==============================] - 124s 2s/step - loss: 0.4926 - acc: 0.7770 - val_loss: 0.5076 - val_acc: 0.7640\n",
            "Epoch 30/200\n",
            "50/50 [==============================] - 120s 2s/step - loss: 0.4714 - acc: 0.7830 - val_loss: 0.4873 - val_acc: 0.7510\n",
            "Epoch 31/200\n",
            "50/50 [==============================] - 120s 2s/step - loss: 0.4732 - acc: 0.7840 - val_loss: 0.5760 - val_acc: 0.7600\n",
            "Epoch 32/200\n",
            "50/50 [==============================] - 120s 2s/step - loss: 0.4729 - acc: 0.7860 - val_loss: 0.6188 - val_acc: 0.7170\n",
            "Epoch 33/200\n",
            "50/50 [==============================] - 120s 2s/step - loss: 0.4761 - acc: 0.7905 - val_loss: 0.8225 - val_acc: 0.7530\n",
            "Epoch 34/200\n",
            "50/50 [==============================] - 120s 2s/step - loss: 0.4677 - acc: 0.7860 - val_loss: 0.4149 - val_acc: 0.7810\n",
            "Epoch 35/200\n",
            "50/50 [==============================] - 119s 2s/step - loss: 0.4538 - acc: 0.8015 - val_loss: 0.6532 - val_acc: 0.7900\n",
            "Epoch 36/200\n",
            "50/50 [==============================] - 120s 2s/step - loss: 0.4639 - acc: 0.8010 - val_loss: 0.5592 - val_acc: 0.7780\n",
            "Epoch 37/200\n",
            "50/50 [==============================] - 119s 2s/step - loss: 0.4395 - acc: 0.8015 - val_loss: 0.3881 - val_acc: 0.7490\n",
            "Epoch 38/200\n",
            "50/50 [==============================] - 119s 2s/step - loss: 0.4550 - acc: 0.8065 - val_loss: 0.4133 - val_acc: 0.7780\n",
            "Epoch 39/200\n",
            "50/50 [==============================] - 120s 2s/step - loss: 0.4481 - acc: 0.8140 - val_loss: 0.6834 - val_acc: 0.7860\n",
            "Epoch 40/200\n",
            "50/50 [==============================] - 119s 2s/step - loss: 0.4558 - acc: 0.8030 - val_loss: 0.5235 - val_acc: 0.6840\n",
            "Epoch 41/200\n",
            "50/50 [==============================] - 119s 2s/step - loss: 0.4462 - acc: 0.8115 - val_loss: 0.5797 - val_acc: 0.7630\n",
            "Epoch 42/200\n",
            "50/50 [==============================] - 119s 2s/step - loss: 0.4409 - acc: 0.8130 - val_loss: 0.5384 - val_acc: 0.7810\n",
            "Epoch 43/200\n",
            "50/50 [==============================] - 119s 2s/step - loss: 0.4460 - acc: 0.8135 - val_loss: 0.6081 - val_acc: 0.7690\n",
            "Epoch 44/200\n",
            "50/50 [==============================] - 119s 2s/step - loss: 0.4494 - acc: 0.8040 - val_loss: 0.4244 - val_acc: 0.7750\n",
            "Epoch 45/200\n",
            "50/50 [==============================] - 119s 2s/step - loss: 0.4329 - acc: 0.8160 - val_loss: 0.6374 - val_acc: 0.7270\n",
            "Epoch 46/200\n",
            "50/50 [==============================] - 119s 2s/step - loss: 0.4525 - acc: 0.8045 - val_loss: 0.4790 - val_acc: 0.7680\n",
            "Epoch 47/200\n",
            "50/50 [==============================] - 119s 2s/step - loss: 0.4253 - acc: 0.8155 - val_loss: 0.3942 - val_acc: 0.7840\n",
            "Epoch 48/200\n",
            "50/50 [==============================] - 119s 2s/step - loss: 0.4420 - acc: 0.8065 - val_loss: 0.4417 - val_acc: 0.7660\n",
            "Epoch 49/200\n",
            "50/50 [==============================] - 119s 2s/step - loss: 0.4525 - acc: 0.8070 - val_loss: 0.4182 - val_acc: 0.7820\n",
            "Epoch 50/200\n",
            "50/50 [==============================] - 119s 2s/step - loss: 0.4321 - acc: 0.8205 - val_loss: 0.7385 - val_acc: 0.7700\n",
            "Epoch 51/200\n",
            "50/50 [==============================] - 119s 2s/step - loss: 0.4360 - acc: 0.8215 - val_loss: 0.6135 - val_acc: 0.7920\n",
            "Epoch 52/200\n",
            "50/50 [==============================] - 120s 2s/step - loss: 0.4215 - acc: 0.8260 - val_loss: 0.6590 - val_acc: 0.7010\n",
            "Epoch 53/200\n",
            "50/50 [==============================] - 120s 2s/step - loss: 0.4489 - acc: 0.8040 - val_loss: 0.6042 - val_acc: 0.7980\n",
            "Epoch 54/200\n",
            "50/50 [==============================] - 120s 2s/step - loss: 0.4315 - acc: 0.8100 - val_loss: 0.4264 - val_acc: 0.7930\n",
            "Epoch 55/200\n",
            "50/50 [==============================] - 120s 2s/step - loss: 0.4182 - acc: 0.8175 - val_loss: 0.5128 - val_acc: 0.7850\n",
            "Epoch 56/200\n",
            "50/50 [==============================] - 120s 2s/step - loss: 0.4230 - acc: 0.8215 - val_loss: 0.7533 - val_acc: 0.7970\n",
            "Epoch 57/200\n",
            "50/50 [==============================] - 120s 2s/step - loss: 0.4308 - acc: 0.8185 - val_loss: 0.3913 - val_acc: 0.8030\n",
            "Epoch 58/200\n",
            "50/50 [==============================] - 119s 2s/step - loss: 0.4311 - acc: 0.8170 - val_loss: 0.3631 - val_acc: 0.7830\n",
            "Epoch 59/200\n",
            "50/50 [==============================] - 119s 2s/step - loss: 0.4325 - acc: 0.8205 - val_loss: 0.4529 - val_acc: 0.8120\n",
            "Epoch 60/200\n",
            "50/50 [==============================] - 119s 2s/step - loss: 0.4288 - acc: 0.8100 - val_loss: 0.7128 - val_acc: 0.8050\n",
            "Epoch 61/200\n",
            "50/50 [==============================] - 119s 2s/step - loss: 0.4156 - acc: 0.8285 - val_loss: 0.3293 - val_acc: 0.8210\n",
            "Epoch 62/200\n",
            "50/50 [==============================] - 119s 2s/step - loss: 0.4290 - acc: 0.8185 - val_loss: 0.6562 - val_acc: 0.8010\n",
            "Epoch 63/200\n",
            "50/50 [==============================] - 120s 2s/step - loss: 0.4429 - acc: 0.8095 - val_loss: 0.4062 - val_acc: 0.7850\n",
            "Epoch 64/200\n",
            "50/50 [==============================] - 119s 2s/step - loss: 0.4098 - acc: 0.8290 - val_loss: 0.2447 - val_acc: 0.7980\n",
            "Epoch 65/200\n",
            "50/50 [==============================] - 119s 2s/step - loss: 0.4052 - acc: 0.8370 - val_loss: 0.3698 - val_acc: 0.8150\n",
            "Epoch 66/200\n",
            "50/50 [==============================] - 120s 2s/step - loss: 0.4010 - acc: 0.8375 - val_loss: 0.6896 - val_acc: 0.8140\n",
            "Epoch 67/200\n",
            "50/50 [==============================] - 120s 2s/step - loss: 0.4220 - acc: 0.8250 - val_loss: 0.3702 - val_acc: 0.8020\n",
            "Epoch 68/200\n",
            "50/50 [==============================] - 120s 2s/step - loss: 0.4025 - acc: 0.8320 - val_loss: 0.4678 - val_acc: 0.8030\n",
            "Epoch 69/200\n",
            "50/50 [==============================] - 120s 2s/step - loss: 0.4014 - acc: 0.8410 - val_loss: 0.5638 - val_acc: 0.7760\n",
            "Epoch 70/200\n",
            "50/50 [==============================] - 120s 2s/step - loss: 0.4178 - acc: 0.8280 - val_loss: 0.8451 - val_acc: 0.7800\n",
            "Epoch 71/200\n",
            "50/50 [==============================] - 119s 2s/step - loss: 0.4041 - acc: 0.8290 - val_loss: 0.6108 - val_acc: 0.8100\n",
            "Epoch 72/200\n",
            "50/50 [==============================] - 120s 2s/step - loss: 0.4322 - acc: 0.8215 - val_loss: 0.3149 - val_acc: 0.7990\n",
            "Epoch 73/200\n",
            "50/50 [==============================] - 120s 2s/step - loss: 0.4049 - acc: 0.8290 - val_loss: 0.5017 - val_acc: 0.8150\n",
            "Epoch 74/200\n",
            "50/50 [==============================] - 120s 2s/step - loss: 0.4074 - acc: 0.8335 - val_loss: 0.3102 - val_acc: 0.8160\n",
            "Epoch 75/200\n",
            "50/50 [==============================] - 120s 2s/step - loss: 0.4033 - acc: 0.8335 - val_loss: 0.2256 - val_acc: 0.8050\n",
            "Epoch 76/200\n",
            "50/50 [==============================] - 120s 2s/step - loss: 0.3978 - acc: 0.8345 - val_loss: 0.4630 - val_acc: 0.8120\n",
            "Epoch 77/200\n",
            "50/50 [==============================] - 120s 2s/step - loss: 0.4007 - acc: 0.8345 - val_loss: 0.4052 - val_acc: 0.8270\n",
            "Epoch 78/200\n",
            "50/50 [==============================] - 120s 2s/step - loss: 0.4034 - acc: 0.8335 - val_loss: 0.4088 - val_acc: 0.8060\n",
            "Epoch 79/200\n",
            "50/50 [==============================] - 120s 2s/step - loss: 0.3920 - acc: 0.8330 - val_loss: 0.3804 - val_acc: 0.8170\n",
            "Epoch 80/200\n",
            "50/50 [==============================] - 120s 2s/step - loss: 0.4063 - acc: 0.8295 - val_loss: 0.6825 - val_acc: 0.7680\n",
            "Epoch 81/200\n",
            "50/50 [==============================] - 120s 2s/step - loss: 0.3915 - acc: 0.8420 - val_loss: 0.7575 - val_acc: 0.7600\n",
            "Epoch 82/200\n",
            "50/50 [==============================] - 120s 2s/step - loss: 0.3818 - acc: 0.8460 - val_loss: 0.4521 - val_acc: 0.8250\n",
            "Epoch 83/200\n",
            "50/50 [==============================] - 120s 2s/step - loss: 0.3851 - acc: 0.8450 - val_loss: 0.3951 - val_acc: 0.8030\n",
            "Epoch 84/200\n",
            "50/50 [==============================] - 120s 2s/step - loss: 0.3845 - acc: 0.8440 - val_loss: 0.4685 - val_acc: 0.8140\n",
            "Epoch 85/200\n",
            "50/50 [==============================] - 120s 2s/step - loss: 0.3738 - acc: 0.8500 - val_loss: 0.4404 - val_acc: 0.8010\n",
            "Epoch 86/200\n",
            "50/50 [==============================] - 120s 2s/step - loss: 0.3816 - acc: 0.8480 - val_loss: 0.3333 - val_acc: 0.8330\n",
            "Epoch 87/200\n",
            "50/50 [==============================] - 120s 2s/step - loss: 0.3757 - acc: 0.8510 - val_loss: 0.6333 - val_acc: 0.8230\n",
            "Epoch 88/200\n",
            "50/50 [==============================] - 120s 2s/step - loss: 0.3709 - acc: 0.8510 - val_loss: 0.4279 - val_acc: 0.8170\n",
            "Epoch 89/200\n",
            "50/50 [==============================] - 120s 2s/step - loss: 0.3789 - acc: 0.8460 - val_loss: 0.3865 - val_acc: 0.8040\n",
            "Epoch 90/200\n",
            "50/50 [==============================] - 120s 2s/step - loss: 0.3650 - acc: 0.8625 - val_loss: 0.5329 - val_acc: 0.8160\n",
            "Epoch 91/200\n",
            "50/50 [==============================] - 120s 2s/step - loss: 0.3647 - acc: 0.8490 - val_loss: 0.5246 - val_acc: 0.8350\n",
            "Epoch 92/200\n",
            "50/50 [==============================] - 119s 2s/step - loss: 0.3640 - acc: 0.8560 - val_loss: 0.4541 - val_acc: 0.8130\n",
            "Epoch 93/200\n",
            "50/50 [==============================] - 119s 2s/step - loss: 0.3719 - acc: 0.8585 - val_loss: 0.3656 - val_acc: 0.8070\n",
            "Epoch 94/200\n",
            "50/50 [==============================] - 119s 2s/step - loss: 0.3609 - acc: 0.8545 - val_loss: 0.5058 - val_acc: 0.8110\n",
            "Epoch 95/200\n",
            "50/50 [==============================] - 119s 2s/step - loss: 0.3533 - acc: 0.8595 - val_loss: 0.6909 - val_acc: 0.8150\n",
            "Epoch 96/200\n",
            "50/50 [==============================] - 120s 2s/step - loss: 0.3750 - acc: 0.8565 - val_loss: 0.6167 - val_acc: 0.8050\n",
            "Epoch 97/200\n",
            "50/50 [==============================] - 119s 2s/step - loss: 0.3757 - acc: 0.8525 - val_loss: 0.5339 - val_acc: 0.8300\n",
            "Epoch 98/200\n",
            "50/50 [==============================] - 120s 2s/step - loss: 0.3694 - acc: 0.8500 - val_loss: 0.3765 - val_acc: 0.8080\n",
            "Epoch 99/200\n",
            "50/50 [==============================] - 120s 2s/step - loss: 0.3645 - acc: 0.8605 - val_loss: 0.4155 - val_acc: 0.8220\n",
            "Epoch 100/200\n",
            "50/50 [==============================] - 120s 2s/step - loss: 0.3656 - acc: 0.8570 - val_loss: 0.4041 - val_acc: 0.8050\n",
            "Epoch 101/200\n",
            "50/50 [==============================] - 120s 2s/step - loss: 0.3657 - acc: 0.8580 - val_loss: 0.3167 - val_acc: 0.8350\n",
            "Epoch 102/200\n",
            "50/50 [==============================] - 119s 2s/step - loss: 0.3585 - acc: 0.8625 - val_loss: 0.3838 - val_acc: 0.8400\n",
            "Epoch 103/200\n",
            "50/50 [==============================] - 119s 2s/step - loss: 0.3525 - acc: 0.8740 - val_loss: 0.4691 - val_acc: 0.8340\n",
            "Epoch 104/200\n",
            "50/50 [==============================] - 119s 2s/step - loss: 0.3757 - acc: 0.8600 - val_loss: 0.3880 - val_acc: 0.8270\n",
            "Epoch 105/200\n",
            "50/50 [==============================] - 119s 2s/step - loss: 0.3498 - acc: 0.8625 - val_loss: 0.5326 - val_acc: 0.8360\n",
            "Epoch 106/200\n",
            "50/50 [==============================] - 119s 2s/step - loss: 0.3631 - acc: 0.8570 - val_loss: 0.3632 - val_acc: 0.8090\n",
            "Epoch 107/200\n",
            "50/50 [==============================] - 119s 2s/step - loss: 0.3562 - acc: 0.8730 - val_loss: 0.2868 - val_acc: 0.8300\n",
            "Epoch 108/200\n",
            "50/50 [==============================] - 119s 2s/step - loss: 0.3575 - acc: 0.8685 - val_loss: 0.3543 - val_acc: 0.8410\n",
            "Epoch 109/200\n",
            "50/50 [==============================] - 119s 2s/step - loss: 0.3619 - acc: 0.8535 - val_loss: 0.4529 - val_acc: 0.8270\n",
            "Epoch 110/200\n",
            "50/50 [==============================] - 120s 2s/step - loss: 0.3498 - acc: 0.8680 - val_loss: 0.5787 - val_acc: 0.8040\n",
            "Epoch 111/200\n",
            "50/50 [==============================] - 119s 2s/step - loss: 0.3667 - acc: 0.8555 - val_loss: 0.7011 - val_acc: 0.8440\n",
            "Epoch 112/200\n",
            "50/50 [==============================] - 119s 2s/step - loss: 0.3276 - acc: 0.8780 - val_loss: 0.5868 - val_acc: 0.8140\n",
            "Epoch 113/200\n",
            "50/50 [==============================] - 119s 2s/step - loss: 0.3630 - acc: 0.8600 - val_loss: 0.2441 - val_acc: 0.8240\n",
            "Epoch 114/200\n",
            "50/50 [==============================] - 119s 2s/step - loss: 0.3460 - acc: 0.8805 - val_loss: 1.0349 - val_acc: 0.8340\n",
            "Epoch 115/200\n",
            "50/50 [==============================] - 119s 2s/step - loss: 0.3540 - acc: 0.8660 - val_loss: 0.5052 - val_acc: 0.8380\n",
            "Epoch 116/200\n",
            "50/50 [==============================] - 119s 2s/step - loss: 0.3576 - acc: 0.8585 - val_loss: 0.3322 - val_acc: 0.8450\n",
            "Epoch 117/200\n",
            "50/50 [==============================] - 119s 2s/step - loss: 0.3368 - acc: 0.8720 - val_loss: 0.7468 - val_acc: 0.8090\n",
            "Epoch 118/200\n",
            "50/50 [==============================] - 119s 2s/step - loss: 0.3295 - acc: 0.8685 - val_loss: 0.3986 - val_acc: 0.8370\n",
            "Epoch 119/200\n",
            "50/50 [==============================] - 119s 2s/step - loss: 0.3224 - acc: 0.8765 - val_loss: 0.3527 - val_acc: 0.8350\n",
            "Epoch 120/200\n",
            "50/50 [==============================] - 119s 2s/step - loss: 0.3458 - acc: 0.8685 - val_loss: 0.3747 - val_acc: 0.8280\n",
            "Epoch 121/200\n",
            "50/50 [==============================] - 119s 2s/step - loss: 0.3461 - acc: 0.8655 - val_loss: 0.3520 - val_acc: 0.8160\n",
            "Epoch 122/200\n",
            "50/50 [==============================] - 118s 2s/step - loss: 0.3348 - acc: 0.8750 - val_loss: 0.3746 - val_acc: 0.8320\n",
            "Epoch 123/200\n",
            "50/50 [==============================] - 119s 2s/step - loss: 0.3409 - acc: 0.8715 - val_loss: 0.8525 - val_acc: 0.8020\n",
            "Epoch 124/200\n",
            "50/50 [==============================] - 119s 2s/step - loss: 0.3408 - acc: 0.8720 - val_loss: 0.2399 - val_acc: 0.8350\n",
            "Epoch 125/200\n",
            "50/50 [==============================] - 118s 2s/step - loss: 0.3247 - acc: 0.8760 - val_loss: 1.2695 - val_acc: 0.7940\n",
            "Epoch 126/200\n",
            "50/50 [==============================] - 119s 2s/step - loss: 0.3305 - acc: 0.8670 - val_loss: 0.4695 - val_acc: 0.8200\n",
            "Epoch 127/200\n",
            "50/50 [==============================] - 119s 2s/step - loss: 0.3258 - acc: 0.8775 - val_loss: 0.4967 - val_acc: 0.8220\n",
            "Epoch 128/200\n",
            "50/50 [==============================] - 119s 2s/step - loss: 0.3375 - acc: 0.8710 - val_loss: 0.5405 - val_acc: 0.8190\n",
            "Epoch 129/200\n",
            "50/50 [==============================] - 119s 2s/step - loss: 0.3161 - acc: 0.8830 - val_loss: 0.6932 - val_acc: 0.7850\n",
            "Epoch 130/200\n",
            "50/50 [==============================] - 119s 2s/step - loss: 0.3232 - acc: 0.8745 - val_loss: 0.6058 - val_acc: 0.8420\n",
            "Epoch 131/200\n",
            "50/50 [==============================] - 119s 2s/step - loss: 0.3299 - acc: 0.8740 - val_loss: 0.6797 - val_acc: 0.8300\n",
            "Epoch 132/200\n",
            "50/50 [==============================] - 119s 2s/step - loss: 0.3233 - acc: 0.8655 - val_loss: 0.5105 - val_acc: 0.8410\n",
            "Epoch 133/200\n",
            "50/50 [==============================] - 119s 2s/step - loss: 0.3224 - acc: 0.8775 - val_loss: 0.3236 - val_acc: 0.8450\n",
            "Epoch 134/200\n",
            "50/50 [==============================] - 119s 2s/step - loss: 0.3234 - acc: 0.8780 - val_loss: 0.6025 - val_acc: 0.8240\n",
            "Epoch 135/200\n",
            "50/50 [==============================] - 119s 2s/step - loss: 0.3265 - acc: 0.8745 - val_loss: 0.4510 - val_acc: 0.8350\n",
            "Epoch 136/200\n",
            "50/50 [==============================] - 119s 2s/step - loss: 0.3340 - acc: 0.8745 - val_loss: 0.6340 - val_acc: 0.8460\n",
            "Epoch 137/200\n",
            "50/50 [==============================] - 119s 2s/step - loss: 0.3379 - acc: 0.8725 - val_loss: 0.2476 - val_acc: 0.8420\n",
            "Epoch 138/200\n",
            "50/50 [==============================] - 119s 2s/step - loss: 0.3192 - acc: 0.8790 - val_loss: 0.5108 - val_acc: 0.8500\n",
            "Epoch 139/200\n",
            "50/50 [==============================] - 119s 2s/step - loss: 0.3208 - acc: 0.8805 - val_loss: 0.7128 - val_acc: 0.8500\n",
            "Epoch 140/200\n",
            "50/50 [==============================] - 119s 2s/step - loss: 0.3190 - acc: 0.8775 - val_loss: 0.6462 - val_acc: 0.8330\n",
            "Epoch 141/200\n",
            "50/50 [==============================] - 119s 2s/step - loss: 0.3242 - acc: 0.8805 - val_loss: 0.2950 - val_acc: 0.8500\n",
            "Epoch 142/200\n",
            "50/50 [==============================] - 119s 2s/step - loss: 0.3153 - acc: 0.8940 - val_loss: 0.4741 - val_acc: 0.7940\n",
            "Epoch 143/200\n",
            "50/50 [==============================] - 119s 2s/step - loss: 0.3209 - acc: 0.8805 - val_loss: 0.7657 - val_acc: 0.8410\n",
            "Epoch 144/200\n",
            "50/50 [==============================] - 119s 2s/step - loss: 0.3145 - acc: 0.8805 - val_loss: 0.3779 - val_acc: 0.8350\n",
            "Epoch 145/200\n",
            "50/50 [==============================] - 120s 2s/step - loss: 0.3050 - acc: 0.8900 - val_loss: 0.5803 - val_acc: 0.8320\n",
            "Epoch 146/200\n",
            "50/50 [==============================] - 120s 2s/step - loss: 0.3352 - acc: 0.8720 - val_loss: 0.1952 - val_acc: 0.8360\n",
            "Epoch 147/200\n",
            "50/50 [==============================] - 120s 2s/step - loss: 0.3213 - acc: 0.8790 - val_loss: 0.4701 - val_acc: 0.8200\n",
            "Epoch 148/200\n",
            "50/50 [==============================] - 119s 2s/step - loss: 0.3175 - acc: 0.8795 - val_loss: 0.7095 - val_acc: 0.8430\n",
            "Epoch 149/200\n",
            "50/50 [==============================] - 120s 2s/step - loss: 0.3277 - acc: 0.8775 - val_loss: 0.3921 - val_acc: 0.8430\n",
            "Epoch 150/200\n",
            "50/50 [==============================] - 119s 2s/step - loss: 0.3045 - acc: 0.8795 - val_loss: 0.3659 - val_acc: 0.8320\n",
            "Epoch 151/200\n",
            "50/50 [==============================] - 119s 2s/step - loss: 0.2972 - acc: 0.8825 - val_loss: 0.4873 - val_acc: 0.8300\n",
            "Epoch 152/200\n",
            "50/50 [==============================] - 119s 2s/step - loss: 0.2979 - acc: 0.8895 - val_loss: 0.5584 - val_acc: 0.8310\n",
            "Epoch 153/200\n",
            "50/50 [==============================] - 119s 2s/step - loss: 0.3117 - acc: 0.8855 - val_loss: 0.8280 - val_acc: 0.8380\n",
            "Epoch 154/200\n",
            "50/50 [==============================] - 119s 2s/step - loss: 0.3040 - acc: 0.8870 - val_loss: 0.4957 - val_acc: 0.8530\n",
            "Epoch 155/200\n",
            "50/50 [==============================] - 119s 2s/step - loss: 0.2981 - acc: 0.8845 - val_loss: 0.3357 - val_acc: 0.8220\n",
            "Epoch 156/200\n",
            "50/50 [==============================] - 119s 2s/step - loss: 0.3117 - acc: 0.8820 - val_loss: 0.2951 - val_acc: 0.8450\n",
            "Epoch 157/200\n",
            "50/50 [==============================] - 119s 2s/step - loss: 0.3138 - acc: 0.8855 - val_loss: 0.5386 - val_acc: 0.8300\n",
            "Epoch 158/200\n",
            "50/50 [==============================] - 119s 2s/step - loss: 0.2775 - acc: 0.8975 - val_loss: 0.5478 - val_acc: 0.8450\n",
            "Epoch 159/200\n",
            "50/50 [==============================] - 119s 2s/step - loss: 0.3072 - acc: 0.8875 - val_loss: 0.4638 - val_acc: 0.8300\n",
            "Epoch 160/200\n",
            "50/50 [==============================] - 119s 2s/step - loss: 0.3005 - acc: 0.8940 - val_loss: 0.2923 - val_acc: 0.8380\n",
            "Epoch 161/200\n",
            "50/50 [==============================] - 119s 2s/step - loss: 0.3034 - acc: 0.8895 - val_loss: 0.5229 - val_acc: 0.8140\n",
            "Epoch 162/200\n",
            "50/50 [==============================] - 120s 2s/step - loss: 0.3069 - acc: 0.8900 - val_loss: 0.3593 - val_acc: 0.8380\n",
            "Epoch 163/200\n",
            "50/50 [==============================] - 119s 2s/step - loss: 0.2909 - acc: 0.8875 - val_loss: 0.5740 - val_acc: 0.8280\n",
            "Epoch 164/200\n",
            "50/50 [==============================] - 119s 2s/step - loss: 0.3157 - acc: 0.8810 - val_loss: 0.4595 - val_acc: 0.8230\n",
            "Epoch 165/200\n",
            "50/50 [==============================] - 119s 2s/step - loss: 0.2789 - acc: 0.9050 - val_loss: 1.2518 - val_acc: 0.8230\n",
            "Epoch 166/200\n",
            "50/50 [==============================] - 119s 2s/step - loss: 0.2861 - acc: 0.8925 - val_loss: 0.4438 - val_acc: 0.8170\n",
            "Epoch 167/200\n",
            "50/50 [==============================] - 119s 2s/step - loss: 0.3154 - acc: 0.8885 - val_loss: 0.3075 - val_acc: 0.8260\n",
            "Epoch 168/200\n",
            "50/50 [==============================] - 119s 2s/step - loss: 0.2891 - acc: 0.8935 - val_loss: 0.1809 - val_acc: 0.8540\n",
            "Epoch 169/200\n",
            "50/50 [==============================] - 119s 2s/step - loss: 0.2991 - acc: 0.8870 - val_loss: 0.3761 - val_acc: 0.8410\n",
            "Epoch 170/200\n",
            "50/50 [==============================] - 119s 2s/step - loss: 0.2917 - acc: 0.8920 - val_loss: 0.4831 - val_acc: 0.8390\n",
            "Epoch 171/200\n",
            "50/50 [==============================] - 119s 2s/step - loss: 0.2835 - acc: 0.8930 - val_loss: 0.4574 - val_acc: 0.8510\n",
            "Epoch 172/200\n",
            "50/50 [==============================] - 119s 2s/step - loss: 0.3022 - acc: 0.8910 - val_loss: 0.2871 - val_acc: 0.8340\n",
            "Epoch 173/200\n",
            "50/50 [==============================] - 119s 2s/step - loss: 0.2735 - acc: 0.9025 - val_loss: 0.2785 - val_acc: 0.8470\n",
            "Epoch 174/200\n",
            "50/50 [==============================] - 119s 2s/step - loss: 0.2911 - acc: 0.8990 - val_loss: 0.5125 - val_acc: 0.8420\n",
            "Epoch 175/200\n",
            "50/50 [==============================] - 119s 2s/step - loss: 0.2829 - acc: 0.8980 - val_loss: 0.5057 - val_acc: 0.8490\n",
            "Epoch 176/200\n",
            "50/50 [==============================] - 119s 2s/step - loss: 0.3052 - acc: 0.8885 - val_loss: 0.7036 - val_acc: 0.8210\n",
            "Epoch 177/200\n",
            "50/50 [==============================] - 119s 2s/step - loss: 0.2732 - acc: 0.9040 - val_loss: 0.3361 - val_acc: 0.8490\n",
            "Epoch 178/200\n",
            "50/50 [==============================] - 119s 2s/step - loss: 0.2801 - acc: 0.9000 - val_loss: 0.4180 - val_acc: 0.8230\n",
            "Epoch 179/200\n",
            "50/50 [==============================] - 119s 2s/step - loss: 0.2799 - acc: 0.8940 - val_loss: 0.2850 - val_acc: 0.8400\n",
            "Epoch 180/200\n",
            "50/50 [==============================] - 119s 2s/step - loss: 0.2458 - acc: 0.9120 - val_loss: 0.7188 - val_acc: 0.8330\n",
            "Epoch 181/200\n",
            "50/50 [==============================] - 119s 2s/step - loss: 0.2717 - acc: 0.9000 - val_loss: 0.3058 - val_acc: 0.8480\n",
            "Epoch 182/200\n",
            "50/50 [==============================] - 119s 2s/step - loss: 0.2898 - acc: 0.9000 - val_loss: 0.5578 - val_acc: 0.8330\n",
            "Epoch 183/200\n",
            "50/50 [==============================] - 120s 2s/step - loss: 0.2851 - acc: 0.8985 - val_loss: 0.8344 - val_acc: 0.8600\n",
            "Epoch 184/200\n",
            "50/50 [==============================] - 119s 2s/step - loss: 0.2716 - acc: 0.9055 - val_loss: 0.1926 - val_acc: 0.8500\n",
            "Epoch 185/200\n",
            "50/50 [==============================] - 119s 2s/step - loss: 0.2817 - acc: 0.9020 - val_loss: 0.4369 - val_acc: 0.8550\n",
            "Epoch 186/200\n",
            "50/50 [==============================] - 119s 2s/step - loss: 0.2625 - acc: 0.9025 - val_loss: 0.4593 - val_acc: 0.8250\n",
            "Epoch 187/200\n",
            "50/50 [==============================] - 119s 2s/step - loss: 0.2673 - acc: 0.9050 - val_loss: 0.9923 - val_acc: 0.8200\n",
            "Epoch 188/200\n",
            "50/50 [==============================] - 118s 2s/step - loss: 0.2866 - acc: 0.8910 - val_loss: 0.3203 - val_acc: 0.8440\n",
            "Epoch 189/200\n",
            "50/50 [==============================] - 118s 2s/step - loss: 0.2649 - acc: 0.9050 - val_loss: 0.4295 - val_acc: 0.8350\n",
            "Epoch 190/200\n",
            "50/50 [==============================] - 118s 2s/step - loss: 0.2729 - acc: 0.9015 - val_loss: 0.4260 - val_acc: 0.8580\n",
            "Epoch 191/200\n",
            "50/50 [==============================] - 122s 2s/step - loss: 0.2586 - acc: 0.9110 - val_loss: 0.3126 - val_acc: 0.8450\n",
            "Epoch 192/200\n",
            "50/50 [==============================] - 118s 2s/step - loss: 0.2865 - acc: 0.8920 - val_loss: 0.5513 - val_acc: 0.8440\n",
            "Epoch 193/200\n",
            "50/50 [==============================] - 118s 2s/step - loss: 0.2713 - acc: 0.8985 - val_loss: 0.4439 - val_acc: 0.8240\n",
            "Epoch 194/200\n",
            "50/50 [==============================] - 118s 2s/step - loss: 0.2681 - acc: 0.9035 - val_loss: 0.6375 - val_acc: 0.8390\n",
            "Epoch 195/200\n",
            "50/50 [==============================] - 118s 2s/step - loss: 0.2538 - acc: 0.9085 - val_loss: 0.6700 - val_acc: 0.8370\n",
            "Epoch 196/200\n",
            "50/50 [==============================] - 118s 2s/step - loss: 0.2507 - acc: 0.9125 - val_loss: 0.3672 - val_acc: 0.8570\n",
            "Epoch 197/200\n",
            "50/50 [==============================] - 118s 2s/step - loss: 0.2691 - acc: 0.9145 - val_loss: 0.3755 - val_acc: 0.8190\n",
            "Epoch 198/200\n",
            "50/50 [==============================] - 118s 2s/step - loss: 0.2573 - acc: 0.9070 - val_loss: 0.7135 - val_acc: 0.8360\n",
            "Epoch 199/200\n",
            "50/50 [==============================] - 118s 2s/step - loss: 0.2542 - acc: 0.9175 - val_loss: 0.3782 - val_acc: 0.8420\n",
            "Epoch 200/200\n",
            "50/50 [==============================] - 118s 2s/step - loss: 0.2751 - acc: 0.9000 - val_loss: 0.3794 - val_acc: 0.8510\n"
          ],
          "name": "stdout"
        }
      ]
    },
    {
      "cell_type": "code",
      "metadata": {
        "id": "exkemwEM3ZBB",
        "colab_type": "code",
        "colab": {
          "base_uri": "https://localhost:8080/",
          "height": 545
        },
        "outputId": "3f6fc03e-d2de-41a7-c441-381e7a3923ac"
      },
      "source": [
        "import matplotlib.pyplot as plt\n",
        "acc = history.history['acc']\n",
        "val_acc = history.history['val_acc']\n",
        "loss = history.history['loss']\n",
        "val_loss = history.history['val_loss']\n",
        "epochs = range(1, len(acc) + 1)\n",
        "plt.plot(epochs, acc, 'bo', label='Training acc')\n",
        "plt.plot(epochs, val_acc, 'b', label='Validation acc')\n",
        "plt.title('Training and validation accuracy')\n",
        "plt.legend()\n",
        "plt.figure()\n",
        "plt.plot(epochs, loss, 'bo', label='Training loss')\n",
        "plt.plot(epochs, val_loss, 'b', label='Validation loss')\n",
        "plt.title('Training and validation loss')\n",
        "plt.legend()\n",
        "plt.show()"
      ],
      "execution_count": null,
      "outputs": [
        {
          "output_type": "display_data",
          "data": {
            "image/png": "[encoded data removed]",
            "text/plain": [
              "<Figure size 432x288 with 1 Axes>"
            ]
          },
          "metadata": {
            "tags": [],
            "needs_background": "light"
          }
        },
        {
          "output_type": "display_data",
          "data": {
            "image/png": "[encoded data removed]",
            "text/plain": [
              "<Figure size 432x288 with 1 Axes>"
            ]
          },
          "metadata": {
            "tags": [],
            "needs_background": "light"
          }
        }
      ]
    },
    {
      "cell_type": "code",
      "metadata": {
        "id": "QuyfAR9tvWq5",
        "colab_type": "code",
        "colab": {
          "base_uri": "https://localhost:8080/",
          "height": 51
        },
        "outputId": "99196bcc-e9dc-40c1-d687-325612438301"
      },
      "source": [
        "test1_datagen = ImageDataGenerator(rescale=1./255)\n",
        "\n",
        "test_dir = '/content/drive/My Drive/dataset/cats&dogs/small_dataset/test'\n",
        "\n",
        "test1_generator = test1_datagen.flow_from_directory(\n",
        "    test_dir,\n",
        "    target_size=(150,150),\n",
        "    batch_size=32,\n",
        "    class_mode='binary'\n",
        ")\n",
        "\n",
        "model.evaluate_generator(test1_generator)"
      ],
      "execution_count": null,
      "outputs": [
        {
          "output_type": "stream",
          "text": [
            "Found 1000 images belonging to 2 classes.\n"
          ],
          "name": "stdout"
        },
        {
          "output_type": "execute_result",
          "data": {
            "text/plain": [
              "[0.39919400215148926, 0.843999981880188]"
            ]
          },
          "metadata": {
            "tags": []
          },
          "execution_count": 9
        }
      ]
    },
    {
      "cell_type": "code",
      "metadata": {
        "id": "apXV6hqIBRNi",
        "colab_type": "code",
        "colab": {}
      },
      "source": [
        "model.save('/content/drive/My Drive/dataset/cats&dogs/small_dataset/cats_and_dogs_small_f1.h5')"
      ],
      "execution_count": null,
      "outputs": []
    }
  ]
}