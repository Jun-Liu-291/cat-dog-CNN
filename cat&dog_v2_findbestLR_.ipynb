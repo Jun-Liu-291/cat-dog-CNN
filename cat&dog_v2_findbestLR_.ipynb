{
  "nbformat": 4,
  "nbformat_minor": 0,
  "metadata": {
    "colab": {
      "name": "cat&dog-v2-findbestLR..ipynb",
      "provenance": [],
      "collapsed_sections": [],
      "authorship_tag": "ABX9TyMhmYRzMdOWoE4FgnHYaFxL",
      "include_colab_link": true
    },
    "kernelspec": {
      "name": "python3",
      "display_name": "Python 3"
    }
  },
  "cells": [
    {
      "cell_type": "markdown",
      "metadata": {
        "id": "view-in-github",
        "colab_type": "text"
      },
      "source": [
        "<a href=\"https://colab.research.google.com/github/Jun-Liu-291/cat-dog-CNN/blob/master/cat%26dog_v2_findbestLR_.ipynb\" target=\"_parent\"><img src=\"https://colab.research.google.com/assets/colab-badge.svg\" alt=\"Open In Colab\"/></a>"
      ]
    },
    {
      "cell_type": "code",
      "metadata": {
        "id": "HdMJzAHatGpM",
        "colab_type": "code",
        "colab": {
          "base_uri": "https://localhost:8080/",
          "height": 34
        },
        "outputId": "5570bff6-877e-44c3-d5b0-80ee793b9599"
      },
      "source": [
        "from keras import layers\n",
        "from keras import models\n",
        "\n",
        "# 4-layers Convnet & 2-layers Fully connected Dense with MaxPooling no regulerzation and dropout\n",
        "model = models.Sequential()\n",
        "model.add(layers.Conv2D(32, (3,3), activation = 'relu', input_shape = (150,150,3)))\n",
        "model.add(layers.MaxPooling2D((2,2)))\n",
        "model.add(layers.Conv2D(64, (3,3), activation = 'relu'))\n",
        "model.add(layers.MaxPooling2D((2,2)))\n",
        "model.add(layers.Conv2D(128, (3,3), activation = 'relu'))\n",
        "model.add(layers.MaxPooling2D((2,2)))\n",
        "model.add(layers.Conv2D(128, (3,3), activation = 'relu'))\n",
        "model.add(layers.MaxPooling2D((2,2)))\n",
        "model.add(layers.Flatten())\n",
        "model.add(layers.Dense(512, activation = 'relu'))\n",
        "model.add(layers.Dense(1, activation = 'sigmoid'))"
      ],
      "execution_count": null,
      "outputs": [
        {
          "output_type": "stream",
          "text": [
            "Using TensorFlow backend.\n"
          ],
          "name": "stderr"
        }
      ]
    },
    {
      "cell_type": "code",
      "metadata": {
        "id": "oXfQ_YQltJ3K",
        "colab_type": "code",
        "colab": {
          "base_uri": "https://localhost:8080/",
          "height": 122
        },
        "outputId": "67ec7694-8796-40ec-c87f-0af7e9040685"
      },
      "source": [
        "from google.colab import drive\n",
        "drive.mount('/content/drive/')"
      ],
      "execution_count": null,
      "outputs": [
        {
          "output_type": "stream",
          "text": [
            "Go to this URL in a browser: https://accounts.google.com/o/oauth2/auth?client_id=947318989803-6bn6qk8qdgf4n4g3pfee6491hc0brc4i.apps.googleusercontent.com&redirect_uri=urn%3aietf%3awg%3aoauth%3a2.0%3aoob&response_type=code&scope=email%20https%3a%2f%2fwww.googleapis.com%2fauth%2fdocs.test%20https%3a%2f%2fwww.googleapis.com%2fauth%2fdrive%20https%3a%2f%2fwww.googleapis.com%2fauth%2fdrive.photos.readonly%20https%3a%2f%2fwww.googleapis.com%2fauth%2fpeopleapi.readonly\n",
            "\n",
            "Enter your authorization code:\n",
            "··········\n",
            "Mounted at /content/drive/\n"
          ],
          "name": "stdout"
        }
      ]
    },
    {
      "cell_type": "code",
      "metadata": {
        "id": "PbQ6WDcOtMVx",
        "colab_type": "code",
        "colab": {}
      },
      "source": [
        "from keras import optimizers\n",
        "import tensorflow as tf\n",
        "\n",
        "# try to find the best learning rate by using LearningRateSchduler\n",
        "# from 1e-7 to 1e-2\n",
        "lr_schedule = tf.keras.callbacks.LearningRateScheduler(lambda epoch: 1e-7 * 10**(epoch / 10))\n",
        "\n",
        "model.compile(loss='binary_crossentropy',\n",
        "              optimizer=optimizers.RMSprop(lr=1e-8),\n",
        "              metrics=['acc'])"
      ],
      "execution_count": null,
      "outputs": []
    },
    {
      "cell_type": "code",
      "metadata": {
        "id": "DAHiy5UQtvHp",
        "colab_type": "code",
        "colab": {
          "base_uri": "https://localhost:8080/",
          "height": 51
        },
        "outputId": "bf471604-0243-41e6-e74e-43b9ff68f8c9"
      },
      "source": [
        "from keras.preprocessing.image import ImageDataGenerator\n",
        "import os\n",
        "\n",
        "batch_size = 20\n",
        "epoch_lenth = 50\n",
        "image_size = (150, 150)\n",
        "train_step_per_epochs = int(2000 / batch_size)\n",
        "validation_step_per_epochs = int(1000 / batch_size)\n",
        "\n",
        "# cats and dogs data set downloaded from www.kaggle.com/c/dogs-vs-cats/data\n",
        "# Using make_small_dataset.py separate small data set\n",
        "# 2000 images as Training set\n",
        "# 1000 images as Validation set\n",
        "# 1000 images as Test set\n",
        "train_dir = '/content/drive/My Drive/dataset/cats&dogs/small_dataset/train'\n",
        "validation_dir = '/content/drive/My Drive/dataset/cats&dogs/small_dataset/validation'\n",
        "\n",
        "# no data augmentation\n",
        "train_datagen = ImageDataGenerator(rescale=1./255)\n",
        "test_datagen = ImageDataGenerator(rescale=1./255)\n",
        "\n",
        "train_generator = train_datagen.flow_from_directory(\n",
        "    train_dir,\n",
        "    target_size = image_size,\n",
        "    batch_size = batch_size,\n",
        "    class_mode = 'binary')\n",
        "\n",
        "validation_generator = test_datagen.flow_from_directory(\n",
        "    validation_dir,\n",
        "    target_size = image_size,\n",
        "    batch_size = batch_size,\n",
        "    class_mode = 'binary')"
      ],
      "execution_count": null,
      "outputs": [
        {
          "output_type": "stream",
          "text": [
            "Found 2000 images belonging to 2 classes.\n",
            "Found 1000 images belonging to 2 classes.\n"
          ],
          "name": "stdout"
        }
      ]
    },
    {
      "cell_type": "code",
      "metadata": {
        "id": "1w95Djvvt6Os",
        "colab_type": "code",
        "colab": {
          "base_uri": "https://localhost:8080/",
          "height": 1000
        },
        "outputId": "657d1eb3-0545-4c35-af6d-acec396c76fa"
      },
      "source": [
        "history = model.fit_generator(\n",
        "    train_generator,\n",
        "    steps_per_epoch = train_step_per_epochs,\n",
        "    epochs = epoch_lenth,\n",
        "    validation_data=validation_generator,\n",
        "    validation_steps = validation_step_per_epochs,\n",
        "    callbacks=[lr_schedule]\n",
        ")"
      ],
      "execution_count": null,
      "outputs": [
        {
          "output_type": "stream",
          "text": [
            "Epoch 1/50\n",
            "100/100 [==============================] - 1260s 13s/step - loss: 0.6931 - acc: 0.5210 - val_loss: 0.6969 - val_acc: 0.5110\n",
            "Epoch 2/50\n",
            "100/100 [==============================] - 95s 951ms/step - loss: 0.6930 - acc: 0.5155 - val_loss: 0.6957 - val_acc: 0.5240\n",
            "Epoch 3/50\n",
            "100/100 [==============================] - 95s 949ms/step - loss: 0.6928 - acc: 0.5190 - val_loss: 0.6930 - val_acc: 0.5340\n",
            "Epoch 4/50\n",
            "100/100 [==============================] - 95s 950ms/step - loss: 0.6926 - acc: 0.5255 - val_loss: 0.6931 - val_acc: 0.5400\n",
            "Epoch 5/50\n",
            "100/100 [==============================] - 95s 953ms/step - loss: 0.6925 - acc: 0.5220 - val_loss: 0.6917 - val_acc: 0.5400\n",
            "Epoch 6/50\n",
            "100/100 [==============================] - 95s 950ms/step - loss: 0.6922 - acc: 0.5170 - val_loss: 0.6900 - val_acc: 0.5310\n",
            "Epoch 7/50\n",
            "100/100 [==============================] - 95s 951ms/step - loss: 0.6920 - acc: 0.5245 - val_loss: 0.6909 - val_acc: 0.5360\n",
            "Epoch 8/50\n",
            "100/100 [==============================] - 95s 951ms/step - loss: 0.6917 - acc: 0.5200 - val_loss: 0.6886 - val_acc: 0.5320\n",
            "Epoch 9/50\n",
            "100/100 [==============================] - 95s 950ms/step - loss: 0.6914 - acc: 0.5275 - val_loss: 0.6919 - val_acc: 0.5290\n",
            "Epoch 10/50\n",
            "100/100 [==============================] - 95s 951ms/step - loss: 0.6911 - acc: 0.5305 - val_loss: 0.6917 - val_acc: 0.5220\n",
            "Epoch 11/50\n",
            "100/100 [==============================] - 95s 951ms/step - loss: 0.6906 - acc: 0.5265 - val_loss: 0.6909 - val_acc: 0.5150\n",
            "Epoch 12/50\n",
            "100/100 [==============================] - 95s 953ms/step - loss: 0.6901 - acc: 0.5215 - val_loss: 0.6966 - val_acc: 0.5360\n",
            "Epoch 13/50\n",
            "100/100 [==============================] - 95s 953ms/step - loss: 0.6895 - acc: 0.5460 - val_loss: 0.6975 - val_acc: 0.5290\n",
            "Epoch 14/50\n",
            "100/100 [==============================] - 95s 952ms/step - loss: 0.6887 - acc: 0.5485 - val_loss: 0.6907 - val_acc: 0.5380\n",
            "Epoch 15/50\n",
            "100/100 [==============================] - 95s 951ms/step - loss: 0.6877 - acc: 0.5755 - val_loss: 0.6846 - val_acc: 0.5280\n",
            "Epoch 16/50\n",
            "100/100 [==============================] - 95s 953ms/step - loss: 0.6864 - acc: 0.5600 - val_loss: 0.6882 - val_acc: 0.5880\n",
            "Epoch 17/50\n",
            "100/100 [==============================] - 95s 954ms/step - loss: 0.6849 - acc: 0.5820 - val_loss: 0.6792 - val_acc: 0.5490\n",
            "Epoch 18/50\n",
            "100/100 [==============================] - 95s 952ms/step - loss: 0.6830 - acc: 0.5930 - val_loss: 0.7061 - val_acc: 0.5360\n",
            "Epoch 19/50\n",
            "100/100 [==============================] - 95s 950ms/step - loss: 0.6800 - acc: 0.6020 - val_loss: 0.6747 - val_acc: 0.5600\n",
            "Epoch 20/50\n",
            "100/100 [==============================] - 95s 953ms/step - loss: 0.6759 - acc: 0.5875 - val_loss: 0.6830 - val_acc: 0.6100\n",
            "Epoch 21/50\n",
            "100/100 [==============================] - 95s 955ms/step - loss: 0.6724 - acc: 0.6160 - val_loss: 0.6499 - val_acc: 0.6100\n",
            "Epoch 22/50\n",
            "100/100 [==============================] - 95s 953ms/step - loss: 0.6671 - acc: 0.6200 - val_loss: 0.6797 - val_acc: 0.5650\n",
            "Epoch 23/50\n",
            "100/100 [==============================] - 95s 954ms/step - loss: 0.6571 - acc: 0.6265 - val_loss: 0.5907 - val_acc: 0.5750\n",
            "Epoch 24/50\n",
            "100/100 [==============================] - 95s 953ms/step - loss: 0.6455 - acc: 0.6345 - val_loss: 0.7808 - val_acc: 0.6320\n",
            "Epoch 25/50\n",
            "100/100 [==============================] - 96s 955ms/step - loss: 0.6373 - acc: 0.6505 - val_loss: 0.6576 - val_acc: 0.6210\n",
            "Epoch 26/50\n",
            "100/100 [==============================] - 96s 960ms/step - loss: 0.6297 - acc: 0.6575 - val_loss: 0.6663 - val_acc: 0.5520\n",
            "Epoch 27/50\n",
            "100/100 [==============================] - 101s 1s/step - loss: 0.6145 - acc: 0.6640 - val_loss: 0.5384 - val_acc: 0.5800\n",
            "Epoch 28/50\n",
            "100/100 [==============================] - 96s 960ms/step - loss: 0.6065 - acc: 0.6780 - val_loss: 0.6303 - val_acc: 0.6100\n",
            "Epoch 29/50\n",
            "100/100 [==============================] - 96s 959ms/step - loss: 0.5965 - acc: 0.6860 - val_loss: 0.5889 - val_acc: 0.5990\n",
            "Epoch 30/50\n",
            "100/100 [==============================] - 96s 962ms/step - loss: 0.5792 - acc: 0.6965 - val_loss: 0.8941 - val_acc: 0.6410\n",
            "Epoch 31/50\n",
            "100/100 [==============================] - 96s 961ms/step - loss: 0.5589 - acc: 0.7140 - val_loss: 0.6975 - val_acc: 0.6620\n",
            "Epoch 32/50\n",
            "100/100 [==============================] - 96s 960ms/step - loss: 0.5525 - acc: 0.7255 - val_loss: 0.6162 - val_acc: 0.6800\n",
            "Epoch 33/50\n",
            "100/100 [==============================] - 101s 1s/step - loss: 0.5282 - acc: 0.7380 - val_loss: 0.6457 - val_acc: 0.6890\n",
            "Epoch 34/50\n",
            "100/100 [==============================] - 96s 958ms/step - loss: 0.5077 - acc: 0.7490 - val_loss: 0.5643 - val_acc: 0.6930\n",
            "Epoch 35/50\n",
            "100/100 [==============================] - 96s 958ms/step - loss: 0.5016 - acc: 0.7650 - val_loss: 0.5054 - val_acc: 0.6640\n",
            "Epoch 36/50\n",
            "100/100 [==============================] - 95s 955ms/step - loss: 0.4949 - acc: 0.7540 - val_loss: 0.6603 - val_acc: 0.6390\n",
            "Epoch 37/50\n",
            "100/100 [==============================] - 95s 953ms/step - loss: 0.4785 - acc: 0.7815 - val_loss: 0.4634 - val_acc: 0.6940\n",
            "Epoch 38/50\n",
            "100/100 [==============================] - 95s 953ms/step - loss: 0.4830 - acc: 0.7695 - val_loss: 0.6167 - val_acc: 0.6760\n",
            "Epoch 39/50\n",
            "100/100 [==============================] - 101s 1s/step - loss: 0.4814 - acc: 0.7780 - val_loss: 0.8239 - val_acc: 0.6420\n",
            "Epoch 40/50\n",
            "100/100 [==============================] - 95s 952ms/step - loss: 0.4481 - acc: 0.7950 - val_loss: 0.6065 - val_acc: 0.6840\n",
            "Epoch 41/50\n",
            "100/100 [==============================] - 95s 947ms/step - loss: 0.5311 - acc: 0.7935 - val_loss: 0.5578 - val_acc: 0.6660\n",
            "Epoch 42/50\n",
            "100/100 [==============================] - 95s 945ms/step - loss: 0.5026 - acc: 0.7750 - val_loss: 0.7141 - val_acc: 0.6770\n",
            "Epoch 43/50\n",
            "100/100 [==============================] - 94s 942ms/step - loss: 0.4815 - acc: 0.7950 - val_loss: 1.1451 - val_acc: 0.6150\n",
            "Epoch 44/50\n",
            "100/100 [==============================] - 94s 938ms/step - loss: 0.4942 - acc: 0.7850 - val_loss: 0.6744 - val_acc: 0.6760\n",
            "Epoch 45/50\n",
            "100/100 [==============================] - 94s 941ms/step - loss: 0.6101 - acc: 0.7555 - val_loss: 1.0439 - val_acc: 0.6420\n",
            "Epoch 46/50\n",
            "100/100 [==============================] - 99s 994ms/step - loss: 0.5459 - acc: 0.7725 - val_loss: 0.9530 - val_acc: 0.5390\n",
            "Epoch 47/50\n",
            "100/100 [==============================] - 97s 972ms/step - loss: 0.7360 - acc: 0.7170 - val_loss: 0.6211 - val_acc: 0.6100\n",
            "Epoch 48/50\n",
            "100/100 [==============================] - 96s 957ms/step - loss: 0.6533 - acc: 0.7200 - val_loss: 0.6437 - val_acc: 0.6380\n",
            "Epoch 49/50\n",
            "100/100 [==============================] - 96s 962ms/step - loss: 1.2715 - acc: 0.6425 - val_loss: 0.8402 - val_acc: 0.5460\n",
            "Epoch 50/50\n",
            "100/100 [==============================] - 96s 963ms/step - loss: 0.8664 - acc: 0.6260 - val_loss: 0.6857 - val_acc: 0.5990\n"
          ],
          "name": "stdout"
        }
      ]
    },
    {
      "cell_type": "code",
      "metadata": {
        "id": "TtsbodE8t63l",
        "colab_type": "code",
        "colab": {
          "base_uri": "https://localhost:8080/",
          "height": 290
        },
        "outputId": "96834b74-559f-4f67-911d-3386d482bb46"
      },
      "source": [
        "import matplotlib.pyplot as plt\n",
        "\n",
        "plt.semilogx(history.history[\"lr\"], history.history[\"loss\"])\n",
        "plt.axis([1e-7, 1e-2, 0.4, 1])"
      ],
      "execution_count": null,
      "outputs": [
        {
          "output_type": "execute_result",
          "data": {
            "text/plain": [
              "(1e-07, 0.01, 0.4, 1.0)"
            ]
          },
          "metadata": {
            "tags": []
          },
          "execution_count": 7
        },
        {
          "output_type": "display_data",
          "data": {
            "image/png": "[encoded data removed]",
            "text/plain": [
              "<Figure size 432x288 with 1 Axes>"
            ]
          },
          "metadata": {
            "tags": [],
            "needs_background": "light"
          }
        }
      ]
    },
    {
      "cell_type": "markdown",
      "metadata": {
        "id": "kdc6aXWjFiDl",
        "colab_type": "text"
      },
      "source": [
        "Information from this chart:\n",
        "1. In the beginning of training, 1e-7 to 1e-5 is too slow, since the slope is small (loss object didn't decrease a lot.\n",
        "2. for 1e-5 to 5e-3, the loss object decrease in a proper speed after each epochs.\n",
        "3. from 1e-3 to larger learning rate, the loss object didn't always get smaller after each epochs.\n",
        "\n",
        "In summary, for this project, set learning rate to be 5e-3 might be a good start. "
      ]
    }
  ]
}