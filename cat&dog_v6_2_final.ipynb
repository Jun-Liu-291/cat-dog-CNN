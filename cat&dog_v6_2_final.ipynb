{
  "nbformat": 4,
  "nbformat_minor": 0,
  "metadata": {
    "colab": {
      "name": "cat&dog-v6.2-final.ipynb",
      "provenance": [],
      "authorship_tag": "ABX9TyNXAch5SacvZ9pBKkKiMVdI",
      "include_colab_link": true
    },
    "kernelspec": {
      "name": "python3",
      "display_name": "Python 3"
    },
    "accelerator": "TPU"
  },
  "cells": [
    {
      "cell_type": "markdown",
      "metadata": {
        "id": "view-in-github",
        "colab_type": "text"
      },
      "source": [
        "<a href=\"https://colab.research.google.com/github/Jun-Liu-291/cat-dog-CNN/blob/master/cat%26dog_v6_2_final.ipynb\" target=\"_parent\"><img src=\"https://colab.research.google.com/assets/colab-badge.svg\" alt=\"Open In Colab\"/></a>"
      ]
    },
    {
      "cell_type": "code",
      "metadata": {
        "id": "xPoJFySylV8P",
        "colab_type": "code",
        "colab": {
          "base_uri": "https://localhost:8080/",
          "height": 122
        },
        "outputId": "9d664d2d-567b-4082-ce35-e9955657dca6"
      },
      "source": [
        "from google.colab import drive\n",
        "drive.mount('/content/drive/')"
      ],
      "execution_count": null,
      "outputs": [
        {
          "output_type": "stream",
          "text": [
            "Go to this URL in a browser: https://accounts.google.com/o/oauth2/auth?client_id=947318989803-6bn6qk8qdgf4n4g3pfee6491hc0brc4i.apps.googleusercontent.com&redirect_uri=urn%3aietf%3awg%3aoauth%3a2.0%3aoob&response_type=code&scope=email%20https%3a%2f%2fwww.googleapis.com%2fauth%2fdocs.test%20https%3a%2f%2fwww.googleapis.com%2fauth%2fdrive%20https%3a%2f%2fwww.googleapis.com%2fauth%2fdrive.photos.readonly%20https%3a%2f%2fwww.googleapis.com%2fauth%2fpeopleapi.readonly\n",
            "\n",
            "Enter your authorization code:\n",
            "··········\n",
            "Mounted at /content/drive/\n"
          ],
          "name": "stdout"
        }
      ]
    },
    {
      "cell_type": "code",
      "metadata": {
        "id": "kEzf88YQlZ3c",
        "colab_type": "code",
        "colab": {}
      },
      "source": [
        "from keras.models import load_model\n",
        "\n",
        "model = load_model('/content/drive/My Drive/dataset/cats&dogs/small_dataset/cats_and_dogs_small_f1.h5')"
      ],
      "execution_count": null,
      "outputs": []
    },
    {
      "cell_type": "code",
      "metadata": {
        "id": "EZxKFzZhlpNA",
        "colab_type": "code",
        "colab": {
          "base_uri": "https://localhost:8080/",
          "height": 51
        },
        "outputId": "17dae98d-320a-4819-cbf0-e847b9c75575"
      },
      "source": [
        "import os\n",
        "from keras.preprocessing.image import ImageDataGenerator\n",
        "\n",
        "batch_size = 40\n",
        "epoch_lenth = 100\n",
        "image_size = (150, 150)\n",
        "train_step_per_epochs = int(2000 / batch_size)\n",
        "validation_step_per_epochs = int(1000 / batch_size)\n",
        "\n",
        "train_dir = '/content/drive/My Drive/dataset/cats&dogs/small_dataset/train'\n",
        "validation_dir = '/content/drive/My Drive/dataset/cats&dogs/small_dataset/validation'\n",
        "\n",
        "train_datagen = ImageDataGenerator(\n",
        "    rescale=1./255,\n",
        "    rotation_range=40,\n",
        "    width_shift_range=0.2,\n",
        "    height_shift_range=0.2,\n",
        "    shear_range=0.2,\n",
        "    zoom_range=0.2,\n",
        "    horizontal_flip=True\n",
        ")\n",
        "\n",
        "test_datagen = ImageDataGenerator(rescale=1./255)\n",
        "\n",
        "train_generator = train_datagen.flow_from_directory(\n",
        "    train_dir,\n",
        "    target_size=(150,150),\n",
        "    batch_size=batch_size,\n",
        "    class_mode='binary'\n",
        ")\n",
        "\n",
        "validation_generator = test_datagen.flow_from_directory(\n",
        "    validation_dir,\n",
        "    target_size=(150,150),\n",
        "    batch_size=batch_size,\n",
        "    class_mode='binary'\n",
        ")"
      ],
      "execution_count": null,
      "outputs": [
        {
          "output_type": "stream",
          "text": [
            "Found 2000 images belonging to 2 classes.\n",
            "Found 1000 images belonging to 2 classes.\n"
          ],
          "name": "stdout"
        }
      ]
    },
    {
      "cell_type": "code",
      "metadata": {
        "id": "MWnYPZkUl5JT",
        "colab_type": "code",
        "colab": {}
      },
      "source": [
        "from keras import optimizers\n",
        "import tensorflow as tf\n",
        "from keras.callbacks import ModelCheckpoint\n",
        "from keras.callbacks import ReduceLROnPlateau\n",
        "# change callback function\n",
        "# apply ReduceLRonPlateau for changing LR\n",
        "reduceLR = ReduceLROnPlateau(\n",
        "    monitor=\"val_loss\",\n",
        "    factor = 0.8,\n",
        "    patience = 5,\n",
        "    verbose = 1,\n",
        "    mode = 'min',\n",
        "    min_lr = 1e-4)\n",
        "\n",
        "# save whole model when get a better val accuracy\n",
        "checkpoint = ModelCheckpoint(\n",
        "    filepath = 'model.{epoch:02d}-{val_loss:.2f}.h5',\n",
        "    monitor='val_acc',\n",
        "    save_weights_only = False,\n",
        "    save_best_only = True\n",
        ")\n",
        "\n",
        "my_callbacks = [reduceLR, checkpoint]\n",
        "\n",
        "model.compile(loss='binary_crossentropy',\n",
        "              optimizer=optimizers.RMSprop(lr=5e-4),\n",
        "              metrics=['acc'])"
      ],
      "execution_count": null,
      "outputs": []
    },
    {
      "cell_type": "code",
      "metadata": {
        "id": "tYKoERw7ni0P",
        "colab_type": "code",
        "colab": {
          "base_uri": "https://localhost:8080/",
          "height": 1000
        },
        "outputId": "fee37d60-f067-4a50-ec86-078881581b18"
      },
      "source": [
        "history = model.fit_generator(\n",
        "    train_generator,\n",
        "    steps_per_epoch=train_step_per_epochs,\n",
        "    epochs=epoch_lenth,\n",
        "    validation_data=validation_generator,\n",
        "    validation_steps=validation_step_per_epochs,\n",
        "    callbacks = my_callbacks\n",
        ")"
      ],
      "execution_count": null,
      "outputs": [
        {
          "output_type": "stream",
          "text": [
            "Epoch 1/100\n",
            " 4/50 [=>............................] - ETA: 8:45 - loss: 0.4399 - acc: 0.8375"
          ],
          "name": "stdout"
        },
        {
          "output_type": "stream",
          "text": [
            "/usr/local/lib/python3.6/dist-packages/keras/utils/data_utils.py:616: UserWarning: The input 28 could not be retrieved. It could be because a worker has died.\n",
            "  UserWarning)\n"
          ],
          "name": "stderr"
        },
        {
          "output_type": "stream",
          "text": [
            "23/50 [============>.................] - ETA: 5:25 - loss: 0.2896 - acc: 0.8946"
          ],
          "name": "stdout"
        },
        {
          "output_type": "stream",
          "text": [
            "/usr/local/lib/python3.6/dist-packages/keras/utils/data_utils.py:616: UserWarning: The input 30 could not be retrieved. It could be because a worker has died.\n",
            "  UserWarning)\n"
          ],
          "name": "stderr"
        },
        {
          "output_type": "stream",
          "text": [
            "50/50 [==============================] - 765s 15s/step - loss: 0.2873 - acc: 0.8920 - val_loss: 0.4054 - val_acc: 0.8390\n",
            "Epoch 2/100\n",
            "50/50 [==============================] - 123s 2s/step - loss: 0.2678 - acc: 0.9055 - val_loss: 0.2529 - val_acc: 0.8360\n",
            "Epoch 3/100\n",
            "50/50 [==============================] - 124s 2s/step - loss: 0.2798 - acc: 0.9030 - val_loss: 0.7601 - val_acc: 0.8390\n",
            "Epoch 4/100\n",
            "50/50 [==============================] - 124s 2s/step - loss: 0.2864 - acc: 0.8965 - val_loss: 0.5025 - val_acc: 0.8470\n",
            "Epoch 5/100\n",
            "50/50 [==============================] - 123s 2s/step - loss: 0.2809 - acc: 0.8960 - val_loss: 0.5082 - val_acc: 0.8490\n",
            "Epoch 6/100\n",
            "50/50 [==============================] - 122s 2s/step - loss: 0.2818 - acc: 0.8980 - val_loss: 0.8475 - val_acc: 0.8690\n",
            "Epoch 7/100\n",
            "50/50 [==============================] - 121s 2s/step - loss: 0.2888 - acc: 0.8955 - val_loss: 0.2565 - val_acc: 0.8650\n",
            "\n",
            "Epoch 00007: ReduceLROnPlateau reducing learning rate to 0.0004000000189989805.\n",
            "Epoch 8/100\n",
            "50/50 [==============================] - 122s 2s/step - loss: 0.2816 - acc: 0.8965 - val_loss: 0.3675 - val_acc: 0.8350\n",
            "Epoch 9/100\n",
            "50/50 [==============================] - 122s 2s/step - loss: 0.2620 - acc: 0.9070 - val_loss: 0.3346 - val_acc: 0.8540\n",
            "Epoch 10/100\n",
            "50/50 [==============================] - 123s 2s/step - loss: 0.2748 - acc: 0.8980 - val_loss: 0.4892 - val_acc: 0.8580\n",
            "Epoch 11/100\n",
            "50/50 [==============================] - 122s 2s/step - loss: 0.2718 - acc: 0.9030 - val_loss: 0.3517 - val_acc: 0.8550\n",
            "Epoch 12/100\n",
            "50/50 [==============================] - 122s 2s/step - loss: 0.2772 - acc: 0.8995 - val_loss: 0.4142 - val_acc: 0.8400\n",
            "\n",
            "Epoch 00012: ReduceLROnPlateau reducing learning rate to 0.00032000001519918444.\n",
            "Epoch 13/100\n",
            "50/50 [==============================] - 121s 2s/step - loss: 0.2404 - acc: 0.9160 - val_loss: 0.4703 - val_acc: 0.8680\n",
            "Epoch 14/100\n",
            "50/50 [==============================] - 122s 2s/step - loss: 0.2271 - acc: 0.9260 - val_loss: 0.1390 - val_acc: 0.8420\n",
            "Epoch 15/100\n",
            "50/50 [==============================] - 121s 2s/step - loss: 0.2663 - acc: 0.9115 - val_loss: 0.3825 - val_acc: 0.8500\n",
            "Epoch 16/100\n",
            "50/50 [==============================] - 121s 2s/step - loss: 0.2592 - acc: 0.9095 - val_loss: 0.2928 - val_acc: 0.8340\n",
            "Epoch 17/100\n",
            "50/50 [==============================] - 122s 2s/step - loss: 0.2410 - acc: 0.9160 - val_loss: 0.4404 - val_acc: 0.8300\n",
            "Epoch 18/100\n",
            "50/50 [==============================] - 121s 2s/step - loss: 0.2568 - acc: 0.9125 - val_loss: 0.2484 - val_acc: 0.8410\n",
            "Epoch 19/100\n",
            "50/50 [==============================] - 121s 2s/step - loss: 0.2315 - acc: 0.9250 - val_loss: 0.4443 - val_acc: 0.8450\n",
            "\n",
            "Epoch 00019: ReduceLROnPlateau reducing learning rate to 0.0002560000168159604.\n",
            "Epoch 20/100\n",
            "50/50 [==============================] - 121s 2s/step - loss: 0.2434 - acc: 0.9115 - val_loss: 0.2118 - val_acc: 0.8330\n",
            "Epoch 21/100\n",
            "50/50 [==============================] - 122s 2s/step - loss: 0.2393 - acc: 0.9225 - val_loss: 0.4759 - val_acc: 0.8580\n",
            "Epoch 22/100\n",
            "50/50 [==============================] - 122s 2s/step - loss: 0.2408 - acc: 0.9170 - val_loss: 0.6593 - val_acc: 0.8390\n",
            "Epoch 23/100\n",
            "50/50 [==============================] - 122s 2s/step - loss: 0.2287 - acc: 0.9255 - val_loss: 0.1976 - val_acc: 0.8470\n",
            "Epoch 24/100\n",
            "50/50 [==============================] - 122s 2s/step - loss: 0.2546 - acc: 0.9140 - val_loss: 0.3485 - val_acc: 0.8330\n",
            "\n",
            "Epoch 00024: ReduceLROnPlateau reducing learning rate to 0.00020480002276599408.\n",
            "Epoch 25/100\n",
            "50/50 [==============================] - 121s 2s/step - loss: 0.2209 - acc: 0.9280 - val_loss: 0.4670 - val_acc: 0.8520\n",
            "Epoch 26/100\n",
            "50/50 [==============================] - 122s 2s/step - loss: 0.2271 - acc: 0.9230 - val_loss: 0.2031 - val_acc: 0.8460\n",
            "Epoch 27/100\n",
            "50/50 [==============================] - 121s 2s/step - loss: 0.2392 - acc: 0.9210 - val_loss: 0.5389 - val_acc: 0.8430\n",
            "Epoch 28/100\n",
            "50/50 [==============================] - 121s 2s/step - loss: 0.2207 - acc: 0.9275 - val_loss: 0.3456 - val_acc: 0.8530\n",
            "Epoch 29/100\n",
            "50/50 [==============================] - 121s 2s/step - loss: 0.2320 - acc: 0.9245 - val_loss: 0.8202 - val_acc: 0.8580\n",
            "\n",
            "Epoch 00029: ReduceLROnPlateau reducing learning rate to 0.00016384001355618238.\n",
            "Epoch 30/100\n",
            "50/50 [==============================] - 121s 2s/step - loss: 0.2154 - acc: 0.9270 - val_loss: 0.3550 - val_acc: 0.8530\n",
            "Epoch 31/100\n",
            "50/50 [==============================] - 121s 2s/step - loss: 0.2232 - acc: 0.9270 - val_loss: 0.2864 - val_acc: 0.8390\n",
            "Epoch 32/100\n",
            "50/50 [==============================] - 122s 2s/step - loss: 0.2253 - acc: 0.9220 - val_loss: 0.6528 - val_acc: 0.8460\n",
            "Epoch 33/100\n",
            "50/50 [==============================] - 121s 2s/step - loss: 0.2239 - acc: 0.9230 - val_loss: 1.2554 - val_acc: 0.8480\n",
            "Epoch 34/100\n",
            "50/50 [==============================] - 122s 2s/step - loss: 0.2253 - acc: 0.9205 - val_loss: 0.4502 - val_acc: 0.8550\n",
            "\n",
            "Epoch 00034: ReduceLROnPlateau reducing learning rate to 0.0001310720108449459.\n",
            "Epoch 35/100\n",
            "50/50 [==============================] - 125s 3s/step - loss: 0.2072 - acc: 0.9295 - val_loss: 0.7125 - val_acc: 0.8520\n",
            "Epoch 36/100\n",
            "50/50 [==============================] - 122s 2s/step - loss: 0.2170 - acc: 0.9270 - val_loss: 0.5574 - val_acc: 0.8520\n",
            "Epoch 37/100\n",
            "50/50 [==============================] - 122s 2s/step - loss: 0.2159 - acc: 0.9205 - val_loss: 0.6178 - val_acc: 0.8540\n",
            "Epoch 38/100\n",
            "50/50 [==============================] - 122s 2s/step - loss: 0.2053 - acc: 0.9340 - val_loss: 0.6657 - val_acc: 0.8590\n",
            "Epoch 39/100\n",
            "50/50 [==============================] - 122s 2s/step - loss: 0.2215 - acc: 0.9300 - val_loss: 0.8561 - val_acc: 0.8540\n",
            "\n",
            "Epoch 00039: ReduceLROnPlateau reducing learning rate to 0.00010485760867595673.\n",
            "Epoch 40/100\n",
            "50/50 [==============================] - 127s 3s/step - loss: 0.2114 - acc: 0.9305 - val_loss: 0.4459 - val_acc: 0.8470\n",
            "Epoch 41/100\n",
            "50/50 [==============================] - 123s 2s/step - loss: 0.1988 - acc: 0.9330 - val_loss: 0.3042 - val_acc: 0.8550\n",
            "Epoch 42/100\n",
            "50/50 [==============================] - 123s 2s/step - loss: 0.2093 - acc: 0.9330 - val_loss: 0.3726 - val_acc: 0.8540\n",
            "Epoch 43/100\n",
            "50/50 [==============================] - 123s 2s/step - loss: 0.2252 - acc: 0.9235 - val_loss: 0.3951 - val_acc: 0.8470\n",
            "Epoch 44/100\n",
            "50/50 [==============================] - 122s 2s/step - loss: 0.1987 - acc: 0.9415 - val_loss: 0.9119 - val_acc: 0.8560\n",
            "\n",
            "Epoch 00044: ReduceLROnPlateau reducing learning rate to 0.0001.\n",
            "Epoch 45/100\n",
            "50/50 [==============================] - 122s 2s/step - loss: 0.2252 - acc: 0.9260 - val_loss: 0.3996 - val_acc: 0.8500\n",
            "Epoch 46/100\n",
            "50/50 [==============================] - 122s 2s/step - loss: 0.2016 - acc: 0.9345 - val_loss: 0.2437 - val_acc: 0.8440\n",
            "Epoch 47/100\n",
            "50/50 [==============================] - 122s 2s/step - loss: 0.2046 - acc: 0.9380 - val_loss: 0.6631 - val_acc: 0.8550\n",
            "Epoch 48/100\n",
            "50/50 [==============================] - 122s 2s/step - loss: 0.1939 - acc: 0.9375 - val_loss: 0.9689 - val_acc: 0.8470\n",
            "Epoch 49/100\n",
            "50/50 [==============================] - 123s 2s/step - loss: 0.2083 - acc: 0.9305 - val_loss: 0.2426 - val_acc: 0.8540\n",
            "Epoch 50/100\n",
            "50/50 [==============================] - 124s 2s/step - loss: 0.1793 - acc: 0.9450 - val_loss: 0.6095 - val_acc: 0.8540\n",
            "Epoch 51/100\n",
            "50/50 [==============================] - 123s 2s/step - loss: 0.2180 - acc: 0.9300 - val_loss: 0.7396 - val_acc: 0.8620\n",
            "Epoch 52/100\n",
            "50/50 [==============================] - 122s 2s/step - loss: 0.1968 - acc: 0.9405 - val_loss: 0.5199 - val_acc: 0.8560\n",
            "Epoch 53/100\n",
            "50/50 [==============================] - 122s 2s/step - loss: 0.2015 - acc: 0.9365 - val_loss: 0.3806 - val_acc: 0.8620\n",
            "Epoch 54/100\n",
            "50/50 [==============================] - 122s 2s/step - loss: 0.1891 - acc: 0.9385 - val_loss: 0.3322 - val_acc: 0.8510\n",
            "Epoch 55/100\n",
            "50/50 [==============================] - 123s 2s/step - loss: 0.2303 - acc: 0.9215 - val_loss: 0.3891 - val_acc: 0.8490\n",
            "Epoch 56/100\n",
            "50/50 [==============================] - 122s 2s/step - loss: 0.1910 - acc: 0.9450 - val_loss: 0.1884 - val_acc: 0.8470\n",
            "Epoch 57/100\n",
            "50/50 [==============================] - 122s 2s/step - loss: 0.2125 - acc: 0.9345 - val_loss: 0.3739 - val_acc: 0.8450\n",
            "Epoch 58/100\n",
            "50/50 [==============================] - 122s 2s/step - loss: 0.1965 - acc: 0.9415 - val_loss: 0.4571 - val_acc: 0.8550\n",
            "Epoch 59/100\n",
            "50/50 [==============================] - 122s 2s/step - loss: 0.1909 - acc: 0.9440 - val_loss: 0.5539 - val_acc: 0.8400\n",
            "Epoch 60/100\n",
            "50/50 [==============================] - 123s 2s/step - loss: 0.2064 - acc: 0.9340 - val_loss: 0.4075 - val_acc: 0.8420\n",
            "Epoch 61/100\n",
            "50/50 [==============================] - 123s 2s/step - loss: 0.2141 - acc: 0.9225 - val_loss: 0.6830 - val_acc: 0.8560\n",
            "Epoch 62/100\n",
            "50/50 [==============================] - 127s 3s/step - loss: 0.2005 - acc: 0.9370 - val_loss: 1.2626 - val_acc: 0.8550\n",
            "Epoch 63/100\n",
            "50/50 [==============================] - 124s 2s/step - loss: 0.2092 - acc: 0.9330 - val_loss: 0.3156 - val_acc: 0.8540\n",
            "Epoch 64/100\n",
            "50/50 [==============================] - 124s 2s/step - loss: 0.2026 - acc: 0.9355 - val_loss: 0.2419 - val_acc: 0.8520\n",
            "Epoch 65/100\n",
            "50/50 [==============================] - 123s 2s/step - loss: 0.1939 - acc: 0.9425 - val_loss: 0.9171 - val_acc: 0.8570\n",
            "Epoch 66/100\n",
            "50/50 [==============================] - 123s 2s/step - loss: 0.2076 - acc: 0.9345 - val_loss: 0.4236 - val_acc: 0.8480\n",
            "Epoch 67/100\n",
            "50/50 [==============================] - 128s 3s/step - loss: 0.2089 - acc: 0.9280 - val_loss: 0.6235 - val_acc: 0.8450\n",
            "Epoch 68/100\n",
            "50/50 [==============================] - 123s 2s/step - loss: 0.1989 - acc: 0.9385 - val_loss: 1.1147 - val_acc: 0.8410\n",
            "Epoch 69/100\n",
            "50/50 [==============================] - 124s 2s/step - loss: 0.2049 - acc: 0.9330 - val_loss: 0.5062 - val_acc: 0.8550\n",
            "Epoch 70/100\n",
            "50/50 [==============================] - 126s 3s/step - loss: 0.2091 - acc: 0.9345 - val_loss: 0.8269 - val_acc: 0.8450\n",
            "Epoch 71/100\n",
            "50/50 [==============================] - 124s 2s/step - loss: 0.2050 - acc: 0.9395 - val_loss: 0.7558 - val_acc: 0.8520\n",
            "Epoch 72/100\n",
            "50/50 [==============================] - 125s 2s/step - loss: 0.1860 - acc: 0.9445 - val_loss: 1.0661 - val_acc: 0.8540\n",
            "Epoch 73/100\n",
            "50/50 [==============================] - 124s 2s/step - loss: 0.2068 - acc: 0.9335 - val_loss: 0.5143 - val_acc: 0.8480\n",
            "Epoch 74/100\n",
            "50/50 [==============================] - 124s 2s/step - loss: 0.2075 - acc: 0.9345 - val_loss: 0.2512 - val_acc: 0.8500\n",
            "Epoch 75/100\n",
            "50/50 [==============================] - 123s 2s/step - loss: 0.2017 - acc: 0.9365 - val_loss: 0.1976 - val_acc: 0.8440\n",
            "Epoch 76/100\n",
            "50/50 [==============================] - 123s 2s/step - loss: 0.2022 - acc: 0.9350 - val_loss: 0.6930 - val_acc: 0.8430\n",
            "Epoch 77/100\n",
            "50/50 [==============================] - 125s 2s/step - loss: 0.2158 - acc: 0.9315 - val_loss: 0.7683 - val_acc: 0.8530\n",
            "Epoch 78/100\n",
            "50/50 [==============================] - 126s 3s/step - loss: 0.2022 - acc: 0.9325 - val_loss: 1.1009 - val_acc: 0.8430\n",
            "Epoch 79/100\n",
            "50/50 [==============================] - 125s 2s/step - loss: 0.1991 - acc: 0.9315 - val_loss: 0.5074 - val_acc: 0.8510\n",
            "Epoch 80/100\n",
            "50/50 [==============================] - 124s 2s/step - loss: 0.2168 - acc: 0.9245 - val_loss: 0.3687 - val_acc: 0.8490\n",
            "Epoch 81/100\n",
            "50/50 [==============================] - 125s 3s/step - loss: 0.2178 - acc: 0.9280 - val_loss: 0.3135 - val_acc: 0.8540\n",
            "Epoch 82/100\n",
            "50/50 [==============================] - 125s 3s/step - loss: 0.1872 - acc: 0.9435 - val_loss: 0.7252 - val_acc: 0.8370\n",
            "Epoch 83/100\n",
            "50/50 [==============================] - 126s 3s/step - loss: 0.2011 - acc: 0.9345 - val_loss: 0.3983 - val_acc: 0.8430\n",
            "Epoch 84/100\n",
            "50/50 [==============================] - 124s 2s/step - loss: 0.2022 - acc: 0.9325 - val_loss: 0.8425 - val_acc: 0.8500\n",
            "Epoch 85/100\n",
            "50/50 [==============================] - 124s 2s/step - loss: 0.1981 - acc: 0.9360 - val_loss: 0.1993 - val_acc: 0.8550\n",
            "Epoch 86/100\n",
            "50/50 [==============================] - 123s 2s/step - loss: 0.1994 - acc: 0.9400 - val_loss: 0.4793 - val_acc: 0.8500\n",
            "Epoch 87/100\n",
            "50/50 [==============================] - 124s 2s/step - loss: 0.2107 - acc: 0.9415 - val_loss: 0.3067 - val_acc: 0.8580\n",
            "Epoch 88/100\n",
            "50/50 [==============================] - 127s 3s/step - loss: 0.1964 - acc: 0.9375 - val_loss: 0.3409 - val_acc: 0.8540\n",
            "Epoch 89/100\n",
            "50/50 [==============================] - 123s 2s/step - loss: 0.2101 - acc: 0.9290 - val_loss: 0.1268 - val_acc: 0.8570\n",
            "Epoch 90/100\n",
            "50/50 [==============================] - 123s 2s/step - loss: 0.1907 - acc: 0.9390 - val_loss: 0.3822 - val_acc: 0.8380\n",
            "Epoch 91/100\n",
            "50/50 [==============================] - 123s 2s/step - loss: 0.2125 - acc: 0.9265 - val_loss: 0.9177 - val_acc: 0.8520\n",
            "Epoch 92/100\n",
            "50/50 [==============================] - 121s 2s/step - loss: 0.1973 - acc: 0.9440 - val_loss: 0.4877 - val_acc: 0.8570\n",
            "Epoch 93/100\n",
            "50/50 [==============================] - 127s 3s/step - loss: 0.1989 - acc: 0.9395 - val_loss: 0.4756 - val_acc: 0.8460\n",
            "Epoch 94/100\n",
            "50/50 [==============================] - 123s 2s/step - loss: 0.2215 - acc: 0.9290 - val_loss: 0.6749 - val_acc: 0.8500\n",
            "Epoch 95/100\n",
            "50/50 [==============================] - 122s 2s/step - loss: 0.2096 - acc: 0.9320 - val_loss: 0.3399 - val_acc: 0.8500\n",
            "Epoch 96/100\n",
            "50/50 [==============================] - 122s 2s/step - loss: 0.1888 - acc: 0.9425 - val_loss: 0.4334 - val_acc: 0.8590\n",
            "Epoch 97/100\n",
            "50/50 [==============================] - 122s 2s/step - loss: 0.2032 - acc: 0.9365 - val_loss: 0.2332 - val_acc: 0.8570\n",
            "Epoch 98/100\n",
            "50/50 [==============================] - 123s 2s/step - loss: 0.2135 - acc: 0.9300 - val_loss: 0.3352 - val_acc: 0.8560\n",
            "Epoch 99/100\n",
            "50/50 [==============================] - 123s 2s/step - loss: 0.2235 - acc: 0.9250 - val_loss: 0.8433 - val_acc: 0.8500\n",
            "Epoch 100/100\n",
            "50/50 [==============================] - 123s 2s/step - loss: 0.2018 - acc: 0.9280 - val_loss: 0.3938 - val_acc: 0.8370\n"
          ],
          "name": "stdout"
        }
      ]
    },
    {
      "cell_type": "code",
      "metadata": {
        "id": "n3HiSTR5Npgo",
        "colab_type": "code",
        "colab": {
          "base_uri": "https://localhost:8080/",
          "height": 545
        },
        "outputId": "0da2b25d-2499-4814-d27a-cd0822d67dc3"
      },
      "source": [
        "import matplotlib.pyplot as plt\n",
        "acc = history.history['acc']\n",
        "val_acc = history.history['val_acc']\n",
        "loss = history.history['loss']\n",
        "val_loss = history.history['val_loss']\n",
        "epochs = range(1, len(acc) + 1)\n",
        "plt.plot(epochs, acc, 'bo', label='Training acc')\n",
        "plt.plot(epochs, val_acc, 'b', label='Validation acc')\n",
        "plt.title('Training and validation accuracy')\n",
        "plt.legend()\n",
        "plt.figure()\n",
        "plt.plot(epochs, loss, 'bo', label='Training loss')\n",
        "plt.plot(epochs, val_loss, 'b', label='Validation loss')\n",
        "plt.title('Training and validation loss')\n",
        "plt.legend()\n",
        "plt.show()"
      ],
      "execution_count": null,
      "outputs": [
        {
          "output_type": "display_data",
          "data": {
            "image/png": "[encoded data removed]",
            "text/plain": [
              "<Figure size 432x288 with 1 Axes>"
            ]
          },
          "metadata": {
            "tags": [],
            "needs_background": "light"
          }
        },
        {
          "output_type": "display_data",
          "data": {
            "image/png": "[encoded data removed]",
            "text/plain": [
              "<Figure size 432x288 with 1 Axes>"
            ]
          },
          "metadata": {
            "tags": [],
            "needs_background": "light"
          }
        }
      ]
    },
    {
      "cell_type": "code",
      "metadata": {
        "id": "Q-yM6jIvlj3L",
        "colab_type": "code",
        "colab": {
          "base_uri": "https://localhost:8080/",
          "height": 51
        },
        "outputId": "6fdc89e1-be63-42c9-b7b9-1bc46fcce912"
      },
      "source": [
        "from keras.preprocessing.image import ImageDataGenerator\n",
        "\n",
        "test1_datagen = ImageDataGenerator(rescale=1./255)\n",
        "\n",
        "test_dir = '/content/drive/My Drive/dataset/cats&dogs/small_dataset/test'\n",
        "\n",
        "test1_generator = test1_datagen.flow_from_directory(\n",
        "    test_dir,\n",
        "    target_size=(150,150),\n",
        "    batch_size=32,\n",
        "    class_mode='binary'\n",
        ")\n",
        "\n",
        "model.evaluate_generator(test1_generator)"
      ],
      "execution_count": null,
      "outputs": [
        {
          "output_type": "stream",
          "text": [
            "Found 1000 images belonging to 2 classes.\n"
          ],
          "name": "stdout"
        },
        {
          "output_type": "execute_result",
          "data": {
            "text/plain": [
              "[0.14690783619880676, 0.8479999899864197]"
            ]
          },
          "metadata": {
            "tags": []
          },
          "execution_count": 8
        }
      ]
    },
    {
      "cell_type": "markdown",
      "metadata": {
        "id": "MV-DJaQBpVBq",
        "colab_type": "text"
      },
      "source": [
        "The results shows both training accuracy and validation accuracy is converged.\n",
        "\n",
        "But bias and variance are both pretty big\n",
        "\n",
        "So the model can still be improved"
      ]
    },
    {
      "cell_type": "code",
      "metadata": {
        "id": "Y6R9fECxnw41",
        "colab_type": "code",
        "colab": {}
      },
      "source": [
        "model1 = load_model('model.06-0.85.h5')"
      ],
      "execution_count": null,
      "outputs": []
    },
    {
      "cell_type": "code",
      "metadata": {
        "id": "pzE6wYhNo6Ww",
        "colab_type": "code",
        "colab": {
          "base_uri": "https://localhost:8080/",
          "height": 34
        },
        "outputId": "9cea073f-25e5-4b62-f004-e679fe5f39e2"
      },
      "source": [
        "model1.evaluate_generator(test1_generator)"
      ],
      "execution_count": null,
      "outputs": [
        {
          "output_type": "execute_result",
          "data": {
            "text/plain": [
              "[0.05822206288576126, 0.8489999771118164]"
            ]
          },
          "metadata": {
            "tags": []
          },
          "execution_count": 10
        }
      ]
    }
  ]
}